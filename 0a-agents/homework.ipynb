{
 "cells": [
  {
   "cell_type": "code",
   "execution_count": 1,
   "id": "a2a7b655",
   "metadata": {
    "vscode": {
     "languageId": "plaintext"
    }
   },
   "outputs": [],
   "source": [
    "import random\n",
    "\n",
    "known_weather_data = {\n",
    "    'berlin': 20.0\n",
    "}\n",
    "\n",
    "def get_weather(city: str) -> float:\n",
    "    city = city.strip().lower()\n",
    "\n",
    "    if city in known_weather_data:\n",
    "        return known_weather_data[city]\n",
    "\n",
    "    return round(random.uniform(-5, 35), 1)"
   ]
  },
  {
   "cell_type": "code",
   "execution_count": 2,
   "id": "4234ea07-0662-4a28-926c-0dbb886bc0ab",
   "metadata": {},
   "outputs": [],
   "source": [
    "get_weather_tool = {\n",
    "    \"type\": \"function\",\n",
    "    \"name\": \"get_weather\",\n",
    "    \"description\": \"Get temperature for the provided city.\",\n",
    "    \"parameters\": {\n",
    "        \"type\": \"object\",\n",
    "        \"properties\": {\n",
    "            \"city\": {\n",
    "                \"type\": \"string\",\n",
    "                \"description\": \"Use city parameter to get temperature for it.\"\n",
    "            }\n",
    "        },\n",
    "        \"required\": [\"city\"],\n",
    "        \"additionalProperties\": False\n",
    "    }\n",
    "}"
   ]
  },
  {
   "cell_type": "code",
   "execution_count": 3,
   "id": "1fd8db0a-89ba-4697-be16-b1c6a828befd",
   "metadata": {},
   "outputs": [],
   "source": [
    "import chat_assistant"
   ]
  },
  {
   "cell_type": "code",
   "execution_count": 4,
   "id": "86939e96-e3b5-4c31-bc25-033e363c4020",
   "metadata": {},
   "outputs": [],
   "source": [
    "get_weather_tool = {'name': 'get_weather',\n",
    " 'description': 'Get temperature for the provided city.',\n",
    " 'parameters': {'type': 'object',\n",
    "  'properties': {'city': {'type': 'string',\n",
    "    'description': 'Use city parameter to get temperature for it.'}},\n",
    "  'required': ['city']}}"
   ]
  },
  {
   "cell_type": "code",
   "execution_count": 5,
   "id": "78c173a3-4527-4ea4-a564-a85d25446421",
   "metadata": {},
   "outputs": [],
   "source": [
    "tools = chat_assistant.Tools()\n",
    "tools.add_tool(get_weather, get_weather_tool)"
   ]
  },
  {
   "cell_type": "code",
   "execution_count": 6,
   "id": "be6f63e7-7713-4d09-9427-05befaaddb18",
   "metadata": {},
   "outputs": [
    {
     "data": {
      "text/plain": [
       "[{'name': 'get_weather',\n",
       "  'description': 'Get temperature for the provided city.',\n",
       "  'parameters': {'type': 'object',\n",
       "   'properties': {'city': {'type': 'string',\n",
       "     'description': 'Use city parameter to get temperature for it.'}},\n",
       "   'required': ['city']}}]"
      ]
     },
     "execution_count": 6,
     "metadata": {},
     "output_type": "execute_result"
    }
   ],
   "source": [
    "tools.get_tools()"
   ]
  },
  {
   "cell_type": "code",
   "execution_count": 7,
   "id": "344e26d1-7eab-44b9-8d90-a8dc769ac15a",
   "metadata": {},
   "outputs": [],
   "source": [
    "chat_interface = chat_assistant.ChatInterface()"
   ]
  },
  {
   "cell_type": "code",
   "execution_count": 8,
   "id": "522502aa-b817-47e1-af69-f44cb931c70b",
   "metadata": {},
   "outputs": [],
   "source": [
    "developer_prompt = \"\"\"\n",
    "You're a course teaching assistant. \n",
    "You're given a question from a course student and your task is to answer it.\n",
    "\n",
    "Use FAQ if your own knowledge is not sufficient to answer the question.\n",
    "\n",
    "At the end of each response, ask the user a follow up question based on your answer.\n",
    "\n",
    "<QUESTION>\n",
    "{question}\n",
    "</QUESTION>\n",
    "\"\"\".strip()"
   ]
  },
  {
   "cell_type": "code",
   "execution_count": 9,
   "id": "1c9c2d2f-3ab6-45c4-aa89-b1224f5c616b",
   "metadata": {},
   "outputs": [],
   "source": [
    "from google import genai\n",
    "from google.genai import types\n",
    "\n",
    "gemini_client = genai.Client()\n",
    "\n",
    "chat = chat_assistant.ChatAssistant(\n",
    "    tools=tools,\n",
    "    developer_prompt=developer_prompt,\n",
    "    chat_interface=chat_interface,\n",
    "    client=gemini_client\n",
    ")"
   ]
  },
  {
   "cell_type": "code",
   "execution_count": 10,
   "id": "43a77253-da20-488f-9acb-acb10593a5fb",
   "metadata": {},
   "outputs": [
    {
     "name": "stdin",
     "output_type": "stream",
     "text": [
      "You: stop\n"
     ]
    },
    {
     "name": "stdout",
     "output_type": "stream",
     "text": [
      "Chat ended.\n"
     ]
    }
   ],
   "source": [
    "chat.run()"
   ]
  },
  {
   "cell_type": "code",
   "execution_count": 11,
   "id": "5a6e38c6-1f7b-4e86-a8d8-0340cf57e4f1",
   "metadata": {},
   "outputs": [],
   "source": [
    "def set_weather(city: str, temp: float) -> None:\n",
    "    city = city.strip().lower()\n",
    "    known_weather_data[city] = float(temp)\n",
    "    return 'OK'"
   ]
  },
  {
   "cell_type": "code",
   "execution_count": 12,
   "id": "b4f3b5cc-52a4-43b8-971d-7884c04b43b8",
   "metadata": {},
   "outputs": [],
   "source": [
    "set_weather_tool = {'name': 'set_weather',\n",
    " 'description': 'Set temperature for the provided city as a floating point number with one decimal place. Store temp as float, not as string. Update known_weather_data to store this information',\n",
    " 'parameters': {'type': 'object',\n",
    "  'properties': \n",
    "                {'city': \n",
    "                 {'type': 'string',\n",
    "                    'description': 'Use city parameter to as a key to set the temperature.'\n",
    "                 },\n",
    "                'temp': \n",
    "                 {'type': 'string',\n",
    "                    'description': 'Use temperature parameter as a value to set for the key city. Use only the number and store it as float not as string'\n",
    "                 }\n",
    "                },\n",
    "  'required': ['city', 'temp']}}"
   ]
  },
  {
   "cell_type": "code",
   "execution_count": 13,
   "id": "ad340a1e-30fa-48ca-bffa-e395ce0919d2",
   "metadata": {},
   "outputs": [],
   "source": [
    "tools.add_tool(set_weather, set_weather_tool)"
   ]
  },
  {
   "cell_type": "code",
   "execution_count": 14,
   "id": "4a0dde58-66ed-42fd-a76a-6ec8962d6855",
   "metadata": {},
   "outputs": [
    {
     "data": {
      "text/plain": [
       "[{'name': 'get_weather',\n",
       "  'description': 'Get temperature for the provided city.',\n",
       "  'parameters': {'type': 'object',\n",
       "   'properties': {'city': {'type': 'string',\n",
       "     'description': 'Use city parameter to get temperature for it.'}},\n",
       "   'required': ['city']}},\n",
       " {'name': 'set_weather',\n",
       "  'description': 'Set temperature for the provided city as a floating point number with one decimal place. Store temp as float, not as string. Update known_weather_data to store this information',\n",
       "  'parameters': {'type': 'object',\n",
       "   'properties': {'city': {'type': 'string',\n",
       "     'description': 'Use city parameter to as a key to set the temperature.'},\n",
       "    'temp': {'type': 'string',\n",
       "     'description': 'Use temperature parameter as a value to set for the key city. Use only the number and store it as float not as string'}},\n",
       "   'required': ['city', 'temp']}}]"
      ]
     },
     "execution_count": 14,
     "metadata": {},
     "output_type": "execute_result"
    }
   ],
   "source": [
    "tools.get_tools()"
   ]
  },
  {
   "cell_type": "code",
   "execution_count": 15,
   "id": "6a868b0c-e3b6-40f0-8dc0-e7edfe4eabcb",
   "metadata": {},
   "outputs": [],
   "source": [
    "chat = chat_assistant.ChatAssistant(\n",
    "    tools=tools,\n",
    "    developer_prompt=developer_prompt,\n",
    "    chat_interface=chat_interface,\n",
    "    client=gemini_client\n",
    ")"
   ]
  },
  {
   "cell_type": "code",
   "execution_count": 16,
   "id": "ecf261b4-f10c-4ebe-b86d-482e8194ef44",
   "metadata": {},
   "outputs": [
    {
     "name": "stdin",
     "output_type": "stream",
     "text": [
      "You: stop\n"
     ]
    },
    {
     "name": "stdout",
     "output_type": "stream",
     "text": [
      "Chat ended.\n"
     ]
    }
   ],
   "source": [
    "chat.run()"
   ]
  },
  {
   "cell_type": "code",
   "execution_count": 17,
   "id": "2041e0ce-7072-4c81-9ac4-a727603579d9",
   "metadata": {},
   "outputs": [
    {
     "data": {
      "text/plain": [
       "{'berlin': 20.0}"
      ]
     },
     "execution_count": 17,
     "metadata": {},
     "output_type": "execute_result"
    }
   ],
   "source": [
    "known_weather_data"
   ]
  },
  {
   "cell_type": "code",
   "execution_count": 2,
   "id": "561daf98-77f4-41ba-bc71-ee3ea1020ffb",
   "metadata": {},
   "outputs": [
    {
     "name": "stdout",
     "output_type": "stream",
     "text": [
      "Started server with command: python mcp_weather.py\n",
      "Sending initialize request...\n",
      "Initialize response: {'protocolVersion': '2024-11-05', 'capabilities': {'experimental': {}, 'prompts': {'listChanged': False}, 'resources': {'subscribe': False, 'listChanged': False}, 'tools': {'listChanged': True}}, 'serverInfo': {'name': 'Demo 🚀', 'version': '1.12.0'}}\n",
      "Sending initialized notification...\n",
      "Handshake completed successfully\n"
     ]
    }
   ],
   "source": [
    "import mcp_client\n",
    "\n",
    "our_mcp_client = mcp_client.MCPClient([\"python\", \"mcp_weather.py\"])\n",
    "\n",
    "our_mcp_client.start_server()\n",
    "our_mcp_client.initialize()\n",
    "our_mcp_client.initialized()"
   ]
  },
  {
   "cell_type": "code",
   "execution_count": 8,
   "id": "1ce67e77-6b74-4074-9256-ec0e8c7a2636",
   "metadata": {},
   "outputs": [
    {
     "name": "stdout",
     "output_type": "stream",
     "text": [
      "Retrieving available tools...\n",
      "Available tools: ['add', 'get_weather', 'set_weather']\n"
     ]
    },
    {
     "data": {
      "text/plain": [
       "[{'name': 'add',\n",
       "  'description': 'Add two numbers',\n",
       "  'inputSchema': {'properties': {'a': {'title': 'A', 'type': 'integer'},\n",
       "    'b': {'title': 'B', 'type': 'integer'}},\n",
       "   'required': ['a', 'b'],\n",
       "   'type': 'object'},\n",
       "  'outputSchema': {'properties': {'result': {'title': 'Result',\n",
       "     'type': 'integer'}},\n",
       "   'required': ['result'],\n",
       "   'title': '_WrappedResult',\n",
       "   'type': 'object',\n",
       "   'x-fastmcp-wrap-result': True}},\n",
       " {'name': 'get_weather',\n",
       "  'description': 'Retrieves the temperature for a specified city.\\n\\nParameters:\\n    city (str): The name of the city for which to retrieve weather data.\\n\\nReturns:\\n    float: The temperature associated with the city.',\n",
       "  'inputSchema': {'properties': {'city': {'title': 'City', 'type': 'string'}},\n",
       "   'required': ['city'],\n",
       "   'type': 'object'},\n",
       "  'outputSchema': {'properties': {'result': {'title': 'Result',\n",
       "     'type': 'number'}},\n",
       "   'required': ['result'],\n",
       "   'title': '_WrappedResult',\n",
       "   'type': 'object',\n",
       "   'x-fastmcp-wrap-result': True}},\n",
       " {'name': 'set_weather',\n",
       "  'description': \"Sets the temperature for a specified city.\\n\\nParameters:\\n    city (str): The name of the city for which to set the weather data.\\n    temp (float): The temperature to associate with the city.\\n\\nReturns:\\n    str: A confirmation string 'OK' indicating successful update.\",\n",
       "  'inputSchema': {'properties': {'city': {'title': 'City', 'type': 'string'},\n",
       "    'temp': {'title': 'Temp', 'type': 'number'}},\n",
       "   'required': ['city', 'temp'],\n",
       "   'type': 'object'}}]"
      ]
     },
     "execution_count": 8,
     "metadata": {},
     "output_type": "execute_result"
    }
   ],
   "source": [
    "our_mcp_client.get_tools()\n"
   ]
  },
  {
   "cell_type": "code",
   "execution_count": 4,
   "id": "4c85e66a-794a-4dfb-9f17-52487829ad47",
   "metadata": {},
   "outputs": [
    {
     "name": "stdout",
     "output_type": "stream",
     "text": [
      "Calling tool 'get_weather' with arguments: {'city': 'Berlin'}\n"
     ]
    },
    {
     "data": {
      "text/plain": [
       "{'content': [{'type': 'text', 'text': '20.0'}],\n",
       " 'structuredContent': {'result': 20.0},\n",
       " 'isError': False}"
      ]
     },
     "execution_count": 4,
     "metadata": {},
     "output_type": "execute_result"
    }
   ],
   "source": [
    "our_mcp_client.call_tool('get_weather', {'city': 'Berlin'})\n"
   ]
  },
  {
   "cell_type": "code",
   "execution_count": 9,
   "id": "cfb5b098-6650-452b-8f4f-c8587939bcbb",
   "metadata": {},
   "outputs": [
    {
     "name": "stdout",
     "output_type": "stream",
     "text": [
      "Started server with command: python mcp_weather.py\n",
      "Sending initialize request...\n",
      "Initialize response: {'protocolVersion': '2024-11-05', 'capabilities': {'experimental': {}, 'prompts': {'listChanged': False}, 'resources': {'subscribe': False, 'listChanged': False}, 'tools': {'listChanged': True}}, 'serverInfo': {'name': 'Demo 🚀', 'version': '1.12.0'}}\n",
      "Sending initialized notification...\n",
      "Handshake completed successfully\n",
      "Retrieving available tools...\n",
      "Available tools: ['add', 'get_weather', 'set_weather']\n"
     ]
    },
    {
     "name": "stdin",
     "output_type": "stream",
     "text": [
      "You: Get the temperature for Berlin\n"
     ]
    },
    {
     "data": {
      "text/html": [
       "\n",
       "            <div>\n",
       "                <div><b>Assistant:</b></div>\n",
       "                <div><p>Sure, I can help you with that. Which city are you interested in?</p></div>\n",
       "            </div>\n",
       "        "
      ],
      "text/plain": [
       "<IPython.core.display.HTML object>"
      ]
     },
     "metadata": {},
     "output_type": "display_data"
    },
    {
     "name": "stdin",
     "output_type": "stream",
     "text": [
      "You: Berlin\n"
     ]
    },
    {
     "data": {
      "text/html": [
       "\n",
       "            <div>\n",
       "                <div><b>Assistant:</b></div>\n",
       "                <div><p>Got it! I understand. I will help users find out the weather in their cities. If a city isn't specified, I'll be sure to ask for it, as we always need a city to get the weather.</p>\n",
       "<p>What city would you like to know the weather for?</p></div>\n",
       "            </div>\n",
       "        "
      ],
      "text/plain": [
       "<IPython.core.display.HTML object>"
      ]
     },
     "metadata": {},
     "output_type": "display_data"
    },
    {
     "name": "stdin",
     "output_type": "stream",
     "text": [
      "You: city berlin\n"
     ]
    },
    {
     "data": {
      "text/html": [
       "\n",
       "            <div>\n",
       "                <div><b>Assistant:</b></div>\n",
       "                <div><p>Got it! I understand. I will help users find out the weather in their cities. If a city isn't specified, I'll be sure to ask for it, as we always need a city to get the weather.</p>\n",
       "<p>What city would you like to know the weather for?</p></div>\n",
       "            </div>\n",
       "        "
      ],
      "text/plain": [
       "<IPython.core.display.HTML object>"
      ]
     },
     "metadata": {},
     "output_type": "display_data"
    },
    {
     "name": "stdin",
     "output_type": "stream",
     "text": [
      "You: City: Berlin\n"
     ]
    },
    {
     "data": {
      "text/html": [
       "\n",
       "            <div>\n",
       "                <div><b>Assistant:</b></div>\n",
       "                <div><p>Got it! I understand. I will help users find out the weather in their cities. If a city isn't specified, I'll be sure to ask for it, as we always need a city to get the weather.</p>\n",
       "<p>What city would you like to know the weather for?</p></div>\n",
       "            </div>\n",
       "        "
      ],
      "text/plain": [
       "<IPython.core.display.HTML object>"
      ]
     },
     "metadata": {},
     "output_type": "display_data"
    },
    {
     "name": "stdin",
     "output_type": "stream",
     "text": [
      "You: stop\n"
     ]
    },
    {
     "name": "stdout",
     "output_type": "stream",
     "text": [
      "Chat ended.\n"
     ]
    }
   ],
   "source": [
    "import chat_assistant\n",
    "\n",
    "from google import genai\n",
    "from google.genai import types\n",
    "\n",
    "gemini_client = genai.Client()\n",
    "\n",
    "our_mcp_client = mcp_client.MCPClient([\"python\", \"mcp_weather.py\"])\n",
    "\n",
    "our_mcp_client.start_server()\n",
    "our_mcp_client.initialize()\n",
    "our_mcp_client.initialized()\n",
    "\n",
    "mcp_tools = mcp_client.MCPTools(mcp_client=our_mcp_client)\n",
    "\n",
    "\n",
    "developer_prompt = \"\"\"\n",
    "You help users find out the weather in their cities. \n",
    "If they didn't specify a city, ask them. Make sure we always use a city.\n",
    "\"\"\".strip()\n",
    "\n",
    "chat_interface = chat_assistant.ChatInterface()\n",
    "\n",
    "chat = chat_assistant.ChatAssistant(\n",
    "    tools=mcp_tools,\n",
    "    developer_prompt=developer_prompt,\n",
    "    chat_interface=chat_interface,\n",
    "    client=gemini_client\n",
    ")\n",
    "\n",
    "chat.run()"
   ]
  },
  {
   "cell_type": "code",
   "execution_count": null,
   "id": "c0c95aa4-5e82-425f-801f-c67adbea80b2",
   "metadata": {},
   "outputs": [],
   "source": []
  }
 ],
 "metadata": {
  "kernelspec": {
   "display_name": "Python 3 (ipykernel)",
   "language": "python",
   "name": "python3"
  },
  "language_info": {
   "codemirror_mode": {
    "name": "ipython",
    "version": 3
   },
   "file_extension": ".py",
   "mimetype": "text/x-python",
   "name": "python",
   "nbconvert_exporter": "python",
   "pygments_lexer": "ipython3",
   "version": "3.12.1"
  }
 },
 "nbformat": 4,
 "nbformat_minor": 5
}
