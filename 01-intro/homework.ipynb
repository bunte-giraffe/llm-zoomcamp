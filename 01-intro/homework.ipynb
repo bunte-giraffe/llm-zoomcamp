{
 "cells": [
  {
   "cell_type": "code",
   "execution_count": 10,
   "id": "3a814a22-9f44-4398-b471-b112ed4aa0d6",
   "metadata": {},
   "outputs": [],
   "source": [
    "from google import genai\n",
    "import os\n",
    "from google.genai import types"
   ]
  },
  {
   "cell_type": "code",
   "execution_count": 5,
   "id": "debf681c-cc3b-48b2-a1d6-792cb238bcf6",
   "metadata": {},
   "outputs": [],
   "source": [
    "client = genai.Client(\n",
    "      vertexai=True\n",
    "  )\n"
   ]
  },
  {
   "cell_type": "code",
   "execution_count": 6,
   "id": "b549d327-112e-4384-8b94-9f2fd8fc9fae",
   "metadata": {},
   "outputs": [
    {
     "data": {
      "text/plain": [
       "<google.genai.client.Client at 0x790e80b33260>"
      ]
     },
     "execution_count": 6,
     "metadata": {},
     "output_type": "execute_result"
    }
   ],
   "source": [
    "client"
   ]
  },
  {
   "cell_type": "code",
   "execution_count": null,
   "id": "13e9af2d-fa24-458c-b636-b28937b0a7f9",
   "metadata": {},
   "outputs": [],
   "source": [
    "os.environ"
   ]
  },
  {
   "cell_type": "code",
   "execution_count": 18,
   "id": "bfa6be24-c9e2-40bb-8bbe-09a837716029",
   "metadata": {},
   "outputs": [
    {
     "name": "stdout",
     "output_type": "stream",
     "text": [
      "To answer whether it's \"too late\" to join a course, I need some information!  Please tell me:\n",
      "\n",
      "*   **What course are you interested in?** (e.g., \"Introduction to Python on Coursera\", \"Biology 101 at State University\", \"Pilates class at the community center\")\n",
      "*   **How long is the course?** (e.g., start and end dates)\n",
      "*   **When does the course start/did it start?**\n",
      "*   **Is there any other relevant information?** (e.g., \"I'm worried about catching up\", \"I know I missed the first week\", \"It's a self-paced course\").\n",
      "\n",
      "Once I have this information, I can give you a more relevant answer!\n"
     ]
    }
   ],
   "source": [
    "client = genai.Client()\n",
    "response = client.models.generate_content(\n",
    "    model=\"gemini-2.0-flash\", contents=\"Is it too late to join the course?\"\n",
    ")\n",
    "print(response.text)"
   ]
  },
  {
   "cell_type": "code",
   "execution_count": null,
   "id": "bc513fc2-8dcd-4819-a1fa-fd62810c870b",
   "metadata": {},
   "outputs": [],
   "source": []
  }
 ],
 "metadata": {
  "kernelspec": {
   "display_name": "Python 3 (ipykernel)",
   "language": "python",
   "name": "python3"
  },
  "language_info": {
   "codemirror_mode": {
    "name": "ipython",
    "version": 3
   },
   "file_extension": ".py",
   "mimetype": "text/x-python",
   "name": "python",
   "nbconvert_exporter": "python",
   "pygments_lexer": "ipython3",
   "version": "3.12.1"
  }
 },
 "nbformat": 4,
 "nbformat_minor": 5
}
