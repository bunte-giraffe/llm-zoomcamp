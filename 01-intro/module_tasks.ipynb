{
 "cells": [
  {
   "cell_type": "code",
   "execution_count": null,
   "id": "3a814a22-9f44-4398-b471-b112ed4aa0d6",
   "metadata": {},
   "outputs": [],
   "source": [
    "from google import genai\n",
    "import os\n",
    "from google.genai import types"
   ]
  },
  {
   "cell_type": "code",
   "execution_count": null,
   "id": "debf681c-cc3b-48b2-a1d6-792cb238bcf6",
   "metadata": {},
   "outputs": [],
   "source": [
    "client = genai.Client(\n",
    "      vertexai=True\n",
    "  )\n"
   ]
  },
  {
   "cell_type": "code",
   "execution_count": null,
   "id": "b549d327-112e-4384-8b94-9f2fd8fc9fae",
   "metadata": {},
   "outputs": [],
   "source": [
    "client"
   ]
  },
  {
   "cell_type": "code",
   "execution_count": null,
   "id": "bfa6be24-c9e2-40bb-8bbe-09a837716029",
   "metadata": {
    "scrolled": true
   },
   "outputs": [],
   "source": [
    "client = genai.Client()\n",
    "response = client.models.generate_content(\n",
    "    model=\"gemini-2.0-flash\", contents=\"Is it too late to join the course?\"\n",
    ")\n",
    "print(response.text)"
   ]
  },
  {
   "cell_type": "code",
   "execution_count": null,
   "id": "06213885",
   "metadata": {},
   "outputs": [],
   "source": [
    "#!wget https://raw.githubusercontent.com/alexeygrigorev/minsearch/refs/heads/main/minsearch.py"
   ]
  },
  {
   "cell_type": "code",
   "execution_count": null,
   "id": "27d4c6e2-d1b8-43bd-b88f-448f188d6e98",
   "metadata": {},
   "outputs": [],
   "source": [
    "import minsearch"
   ]
  },
  {
   "cell_type": "code",
   "execution_count": null,
   "id": "fdcfc9e4-6a58-4f16-b937-7e1d672ca3b8",
   "metadata": {},
   "outputs": [],
   "source": [
    "minsearch"
   ]
  },
  {
   "cell_type": "code",
   "execution_count": null,
   "id": "c944091d-774e-4087-96fb-5efe505c514f",
   "metadata": {},
   "outputs": [],
   "source": [
    "#!wget https://raw.githubusercontent.com/DataTalksClub/llm-zoomcamp/refs/heads/main/01-intro/documents.json"
   ]
  },
  {
   "cell_type": "code",
   "execution_count": null,
   "id": "35dc46a0-2500-4e60-a85d-5549d14db49d",
   "metadata": {},
   "outputs": [],
   "source": [
    "import json"
   ]
  },
  {
   "cell_type": "code",
   "execution_count": null,
   "id": "8c03674a-d374-4149-b11c-72bac89e1e82",
   "metadata": {},
   "outputs": [],
   "source": [
    "with open('documents.json', 'rt') as f_in:\n",
    "    docs_raw  = json.load(f_in)"
   ]
  },
  {
   "cell_type": "code",
   "execution_count": null,
   "id": "ab7dffd7-4c24-4bb9-bd96-843e41f85636",
   "metadata": {},
   "outputs": [],
   "source": [
    "documents = []\n",
    "\n",
    "for course_dict in docs_raw:\n",
    "    for doc in course_dict['documents']:\n",
    "        doc['course'] = course_dict['course']\n",
    "        documents.append(doc)"
   ]
  },
  {
   "cell_type": "code",
   "execution_count": null,
   "id": "fe054356-37b7-4489-bbd3-419b4be0e635",
   "metadata": {},
   "outputs": [],
   "source": [
    "documents[0]"
   ]
  },
  {
   "cell_type": "code",
   "execution_count": null,
   "id": "d074ce80-5746-4a3b-99bb-a9ec122efec7",
   "metadata": {},
   "outputs": [],
   "source": [
    "index = minsearch.Index(\n",
    "    text_fields = [\"question\", \"text\", \"section\"],\n",
    "    keyword_fields=[\"course\"]\n",
    ")"
   ]
  },
  {
   "cell_type": "code",
   "execution_count": null,
   "id": "6d824084-f620-44e5-9b0c-f7c2fdf64302",
   "metadata": {},
   "outputs": [],
   "source": [
    "index.fit(documents)"
   ]
  },
  {
   "cell_type": "code",
   "execution_count": null,
   "id": "6a0faebd-40e2-4601-b42e-733a8b791263",
   "metadata": {},
   "outputs": [],
   "source": [
    "q = \"The course has already started. Can I still enroll?\""
   ]
  },
  {
   "cell_type": "code",
   "execution_count": null,
   "id": "01f5d78e-68f5-4db1-bdf2-6c729e0083c8",
   "metadata": {},
   "outputs": [],
   "source": [
    "boost = {\"question\": 3.0, \"section\": 0.5}\n",
    "\n",
    "results = index.search(\n",
    "    query=q,\n",
    "    filter_dict={'course':'data-engineering-zoomcamp'},\n",
    "    boost_dict=boost,\n",
    "    num_results=5\n",
    ")"
   ]
  },
  {
   "cell_type": "code",
   "execution_count": null,
   "id": "d218d410-5cd8-403e-af6e-433faee7682f",
   "metadata": {},
   "outputs": [],
   "source": [
    "client"
   ]
  },
  {
   "cell_type": "code",
   "execution_count": null,
   "id": "2a578ad4-7b04-41f5-a81a-8ae7900f68f7",
   "metadata": {},
   "outputs": [],
   "source": [
    "response = client.models.generate_content(\n",
    "    model=\"gemini-2.0-flash\", \n",
    "    contents=q\n",
    ")\n",
    "print(response.text)"
   ]
  },
  {
   "cell_type": "code",
   "execution_count": null,
   "id": "fa1ee359-1daf-4b5b-b33e-ed4050587d1c",
   "metadata": {},
   "outputs": [],
   "source": [
    "prompt_template = \"\"\"\n",
    "You're a course teaching assistant. Answer the QUESTION based on the CONTEXT from the FAQ database. \n",
    "Use only the facts from the CONTEXT when answering the QUESTION.\n",
    "If the CONTEXT doesn't contain the answer, output NONE.\n",
    "\n",
    "QUESTION: {question}\n",
    "\n",
    "CONTEXT: \n",
    "{context}\n",
    "\"\"\".strip()"
   ]
  },
  {
   "cell_type": "code",
   "execution_count": null,
   "id": "a821f404-8df7-436a-a8d4-affe8b3d53e4",
   "metadata": {},
   "outputs": [],
   "source": [
    "context = \"\"\n",
    "for doc in results:\n",
    "    context = context + f\"section: {doc['section']}\\nquestion: {doc['question']}\\nanswer: {doc['text']}\\n\\n\""
   ]
  },
  {
   "cell_type": "code",
   "execution_count": null,
   "id": "b6ca6f5b-0f02-4984-88f2-83dfddb9daa6",
   "metadata": {},
   "outputs": [],
   "source": [
    "prompt = prompt_template.format(question=q, context=context).strip()"
   ]
  },
  {
   "cell_type": "code",
   "execution_count": null,
   "id": "a6295ca4-4b88-4983-a36c-6b70255c25f8",
   "metadata": {},
   "outputs": [],
   "source": [
    "print(prompt)"
   ]
  },
  {
   "cell_type": "code",
   "execution_count": null,
   "id": "463fc6ef-a5dd-4f1b-b44c-f3c0f1173910",
   "metadata": {},
   "outputs": [],
   "source": [
    "response = client.models.generate_content(\n",
    "    model=\"gemini-2.0-flash\", \n",
    "    contents=prompt\n",
    ")\n",
    "print(response.text)"
   ]
  },
  {
   "cell_type": "code",
   "execution_count": null,
   "id": "2b4462a4-eb62-4bb3-9f44-f37028e14dee",
   "metadata": {},
   "outputs": [],
   "source": [
    "def search(query):\n",
    "    boost = {\"question\": 3.0, \"section\": 0.5}\n",
    "\n",
    "    results = index.search(\n",
    "        query=query,\n",
    "        filter_dict={'course':'data-engineering-zoomcamp'},\n",
    "        boost_dict=boost,\n",
    "        num_results=5\n",
    "    )\n",
    "    return results"
   ]
  },
  {
   "cell_type": "code",
   "execution_count": null,
   "id": "f4dd0440-6838-4104-bf93-698033240938",
   "metadata": {},
   "outputs": [],
   "source": [
    "search('how do i run kafka?')"
   ]
  },
  {
   "cell_type": "code",
   "execution_count": null,
   "id": "15e3ae8f-488a-4759-b1b8-666455bd4a34",
   "metadata": {},
   "outputs": [],
   "source": [
    "def build_prompt(query, search_results):\n",
    "    prompt_template = \"\"\"\n",
    "        You're a course teaching assistant. Answer the QUESTION based on the CONTEXT from the FAQ database. \n",
    "        Use only the facts from the CONTEXT when answering the QUESTION.\n",
    "        If the CONTEXT doesn't contain the answer, output NONE.\n",
    "        \n",
    "        QUESTION: {question}\n",
    "        \n",
    "        CONTEXT: \n",
    "        {context}\n",
    "        \"\"\".strip()\n",
    "    context = \"\"\n",
    "    for doc in search_results:\n",
    "        context = context + f\"section: {doc['section']}\\nquestion: {doc['question']}\\nanswer: {doc['text']}\\n\\n\"\n",
    "\n",
    "    prompt = prompt_template.format(question=query, context=context).strip()\n",
    "    return prompt"
   ]
  },
  {
   "cell_type": "code",
   "execution_count": null,
   "id": "55d16531-669a-41c1-9698-c2c2b5486874",
   "metadata": {},
   "outputs": [],
   "source": [
    "def llm(prompt):\n",
    "    response = client.models.generate_content(\n",
    "        model=\"gemini-2.0-flash\", \n",
    "        contents=prompt\n",
    "    )\n",
    "    return response.text"
   ]
  },
  {
   "cell_type": "code",
   "execution_count": null,
   "id": "38c16537-70a9-46e8-a511-8b66cfe89e50",
   "metadata": {},
   "outputs": [],
   "source": [
    "def rag(query):\n",
    "    search_results = search(query)\n",
    "    prompt = build_prompt(query, search_results)\n",
    "    answer = llm(prompt)\n",
    "    return answer"
   ]
  },
  {
   "cell_type": "code",
   "execution_count": null,
   "id": "e0fdb3f8-8176-4794-ad69-099d860b90cc",
   "metadata": {},
   "outputs": [],
   "source": [
    "print(rag('how do I run kafka?'))"
   ]
  },
  {
   "cell_type": "code",
   "execution_count": null,
   "id": "849005e2-b53d-4682-b6ab-1de50bede918",
   "metadata": {},
   "outputs": [],
   "source": [
    "documents[0]"
   ]
  },
  {
   "cell_type": "code",
   "execution_count": null,
   "id": "1c12245d-e4b4-4865-a30c-ee5419ee0477",
   "metadata": {},
   "outputs": [],
   "source": [
    "from elasticsearch import Elasticsearch"
   ]
  },
  {
   "cell_type": "code",
   "execution_count": 94,
   "id": "6a5e9bf9-e652-4181-93dc-f37af8596e17",
   "metadata": {},
   "outputs": [],
   "source": [
    "es_client = Elasticsearch('http://localhost:9200')"
   ]
  },
  {
   "cell_type": "code",
   "execution_count": 95,
   "id": "9ba817f6-086d-477c-9bb4-210a63105a25",
   "metadata": {},
   "outputs": [
    {
     "data": {
      "text/plain": [
       "ObjectApiResponse({'name': '7b385051d6db', 'cluster_name': 'docker-cluster', 'cluster_uuid': '0Wnl4O2hSFexy0_4Q1m43A', 'version': {'number': '8.4.3', 'build_flavor': 'default', 'build_type': 'docker', 'build_hash': '42f05b9372a9a4a470db3b52817899b99a76ee73', 'build_date': '2022-10-04T07:17:24.662462378Z', 'build_snapshot': False, 'lucene_version': '9.3.0', 'minimum_wire_compatibility_version': '7.17.0', 'minimum_index_compatibility_version': '7.0.0'}, 'tagline': 'You Know, for Search'})"
      ]
     },
     "execution_count": 95,
     "metadata": {},
     "output_type": "execute_result"
    }
   ],
   "source": [
    "es_client.info()"
   ]
  },
  {
   "cell_type": "code",
   "execution_count": 96,
   "id": "4b28b4ff-6bc1-4bb5-993b-46a2a26950b9",
   "metadata": {},
   "outputs": [],
   "source": [
    "index_settings = {\n",
    "    \"settings\": {\n",
    "        \"number_of_shards\": 1,\n",
    "        \"number_of_replicas\": 0\n",
    "    },\n",
    "    \"mappings\": {\n",
    "        \"properties\": {\n",
    "            \"text\": {\"type\": \"text\"},\n",
    "            \"section\": {\"type\": \"text\"},\n",
    "            \"question\": {\"type\": \"text\"},\n",
    "            \"course\": {\"type\": \"keyword\"} \n",
    "        }\n",
    "    }\n",
    "}"
   ]
  },
  {
   "cell_type": "code",
   "execution_count": null,
   "id": "11790b6e-1e40-42d4-a9ea-c823834ab0b8",
   "metadata": {},
   "outputs": [
    {
     "data": {
      "text/plain": [
       "ObjectApiResponse({'acknowledged': True, 'shards_acknowledged': True, 'index': 'course-questions2'})"
      ]
     },
     "execution_count": 98,
     "metadata": {},
     "output_type": "execute_result"
    }
   ],
   "source": [
    "index_name = \"course-questions\"\n",
    "\n",
    "es_client.indices.create(index=index_name, settings=index_settings['settings'], mappings=index_settings['mappings'])"
   ]
  },
  {
   "cell_type": "code",
   "execution_count": 80,
   "id": "5368f935-50bc-4635-a02a-73731c1d27c4",
   "metadata": {},
   "outputs": [],
   "source": [
    "#!pip install tqdm\n",
    "from tqdm.auto import tqdm"
   ]
  },
  {
   "cell_type": "code",
   "execution_count": 99,
   "id": "6ac2b467-6239-4f91-9568-9474b492879c",
   "metadata": {},
   "outputs": [
    {
     "name": "stderr",
     "output_type": "stream",
     "text": [
      "100%|█████████████████████████████████████████████████████████████████████████████████████████████████████████████████| 948/948 [00:02<00:00, 382.05it/s]\n"
     ]
    }
   ],
   "source": [
    "for doc in tqdm(documents):\n",
    "    es_client.index(index=index_name, document=doc)"
   ]
  },
  {
   "cell_type": "code",
   "execution_count": 100,
   "id": "7ecd47f7-18c5-433e-97ae-f919d002e026",
   "metadata": {},
   "outputs": [],
   "source": [
    "query = q"
   ]
  },
  {
   "cell_type": "code",
   "execution_count": null,
   "id": "6730a60c-2301-44ac-a33d-05267491bdac",
   "metadata": {},
   "outputs": [],
   "source": [
    "result_docs"
   ]
  },
  {
   "cell_type": "code",
   "execution_count": null,
   "id": "a52e125e-95f7-4b5f-a658-8c7e4d5d835d",
   "metadata": {},
   "outputs": [],
   "source": [
    "def rag(query):\n",
    "    search_results = elastic_search(query)\n",
    "    prompt = build_prompt(query, search_results)\n",
    "    answer = llm(prompt)\n",
    "    return answer"
   ]
  },
  {
   "cell_type": "code",
   "execution_count": 65,
   "id": "b6d15ee4-5b40-4245-9b9b-42b6fc806871",
   "metadata": {},
   "outputs": [
    {
     "data": {
      "text/plain": [
       "'NONE\\n'"
      ]
     },
     "execution_count": 65,
     "metadata": {},
     "output_type": "execute_result"
    }
   ],
   "source": [
    "rag('how do i run kafka?')"
   ]
  },
  {
   "cell_type": "code",
   "execution_count": null,
   "id": "dda9ffb3-8941-405f-b186-7dcd6491bd03",
   "metadata": {},
   "outputs": [],
   "source": []
  },
  {
   "cell_type": "code",
   "execution_count": null,
   "id": "9b5f74d6-b134-4561-bde5-b23baed1361d",
   "metadata": {},
   "outputs": [],
   "source": []
  },
  {
   "cell_type": "code",
   "execution_count": null,
   "id": "4aee3f80-d1a4-4721-b14c-7bf1b5f1b47a",
   "metadata": {},
   "outputs": [],
   "source": [
    "\\"
   ]
  },
  {
   "cell_type": "code",
   "execution_count": null,
   "id": "461fb6b0-a05e-4a01-8f97-732701038f08",
   "metadata": {},
   "outputs": [],
   "source": [
    "[]"
   ]
  }
 ],
 "metadata": {
  "kernelspec": {
   "display_name": "Python 3 (ipykernel)",
   "language": "python",
   "name": "python3"
  },
  "language_info": {
   "codemirror_mode": {
    "name": "ipython",
    "version": 3
   },
   "file_extension": ".py",
   "mimetype": "text/x-python",
   "name": "python",
   "nbconvert_exporter": "python",
   "pygments_lexer": "ipython3",
   "version": "3.12.1"
  }
 },
 "nbformat": 4,
 "nbformat_minor": 5
}
