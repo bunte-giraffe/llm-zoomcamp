{
 "cells": [
  {
   "cell_type": "code",
   "execution_count": 1,
   "id": "8be5124c",
   "metadata": {
    "vscode": {
     "languageId": "plaintext"
    }
   },
   "outputs": [
    {
     "name": "stderr",
     "output_type": "stream",
     "text": [
      "/usr/local/python/3.12.1/lib/python3.12/site-packages/tqdm/auto.py:21: TqdmWarning: IProgress not found. Please update jupyter and ipywidgets. See https://ipywidgets.readthedocs.io/en/stable/user_install.html\n",
      "  from .autonotebook import tqdm as notebook_tqdm\n"
     ]
    }
   ],
   "source": [
    "from qdrant_client import QdrantClient, models"
   ]
  },
  {
   "cell_type": "code",
   "execution_count": 2,
   "id": "3f54d952-ef11-4356-83a9-8d2ad52a54ed",
   "metadata": {},
   "outputs": [],
   "source": [
    "qd_client = QdrantClient(\"http://localhost:6333\")"
   ]
  },
  {
   "cell_type": "code",
   "execution_count": 3,
   "id": "26f49b83-fab7-44a0-b51e-5eca5ce18849",
   "metadata": {},
   "outputs": [],
   "source": [
    "EMBEDDING_DIMENSIONALITY = 512\n"
   ]
  },
  {
   "cell_type": "code",
   "execution_count": 4,
   "id": "5bbfd16b-0103-4e81-aec9-02c800802500",
   "metadata": {},
   "outputs": [],
   "source": [
    "model_handle = \"jinaai/jina-embeddings-v2-small-en\""
   ]
  },
  {
   "cell_type": "code",
   "execution_count": 6,
   "id": "7a6206cd-9251-4969-8d8e-a81d3d265938",
   "metadata": {},
   "outputs": [],
   "source": [
    "from fastembed import TextEmbedding"
   ]
  },
  {
   "cell_type": "code",
   "execution_count": 12,
   "id": "2755282f-3d8f-4d77-9c01-5c037786e812",
   "metadata": {},
   "outputs": [],
   "source": [
    "import requests\n",
    "\n",
    "docs_url = 'https://github.com/alexeygrigorev/llm-rag-workshop/raw/main/notebooks/documents.json'\n",
    "docs_response = requests.get(docs_url)\n",
    "documents_raw = docs_response.json()"
   ]
  },
  {
   "cell_type": "code",
   "execution_count": 14,
   "id": "cd73aa2d-6343-429a-ab55-ae7725cc38d7",
   "metadata": {},
   "outputs": [
    {
     "data": {
      "text/plain": [
       "True"
      ]
     },
     "execution_count": 14,
     "metadata": {},
     "output_type": "execute_result"
    }
   ],
   "source": [
    "# Define the collection name\n",
    "collection_name = \"zoomcamp-homework\"\n",
    "\n",
    "# Create the collection with specified vector parameters\n",
    "qd_client.create_collection(\n",
    "    collection_name=collection_name,\n",
    "    vectors_config=models.VectorParams(\n",
    "        size=EMBEDDING_DIMENSIONALITY,  # Dimensionality of the vectors\n",
    "        distance=models.Distance.COSINE  # Distance metric for similarity search\n",
    "    )\n",
    ")"
   ]
  },
  {
   "cell_type": "code",
   "execution_count": 15,
   "id": "64470b8e-30b9-4739-9c98-30f11d9c0314",
   "metadata": {},
   "outputs": [],
   "source": [
    "points = []\n",
    "id = 0\n",
    "\n",
    "for course in documents_raw:\n",
    "    for doc in course['documents']:\n",
    "\n",
    "        point = models.PointStruct(\n",
    "            id=id,\n",
    "            vector=models.Document(text=doc['text'], model=model_handle), #embed text locally with \"jinaai/jina-embeddings-v2-small-en\" from FastEmbed\n",
    "            payload={\n",
    "                \"text\": doc['text'],\n",
    "                \"section\": doc['section'],\n",
    "                \"course\": course['course']\n",
    "            } #save all needed metadata fields\n",
    "        )\n",
    "        points.append(point)\n",
    "\n",
    "        id += 1"
   ]
  },
  {
   "cell_type": "code",
   "execution_count": 17,
   "id": "dd0d842b-f298-4fc8-823d-9b21bbbdc161",
   "metadata": {},
   "outputs": [
    {
     "data": {
      "text/plain": [
       "UpdateResult(operation_id=0, status=<UpdateStatus.COMPLETED: 'completed'>)"
      ]
     },
     "execution_count": 17,
     "metadata": {},
     "output_type": "execute_result"
    }
   ],
   "source": [
    "qd_client.upsert(\n",
    "    collection_name=collection_name,\n",
    "    points=points\n",
    ")"
   ]
  },
  {
   "cell_type": "code",
   "execution_count": 27,
   "id": "1913d817-ffce-4fbc-a086-d65d4332fb8e",
   "metadata": {},
   "outputs": [],
   "source": [
    "def search(query, limit=1):\n",
    "\n",
    "    results = qd_client.query_points(\n",
    "        collection_name=collection_name,\n",
    "        query=models.Document( #embed the query text locally with \"jinaai/jina-embeddings-v2-small-en\"\n",
    "            text=query,\n",
    "            model=model_handle \n",
    "        ),\n",
    "        limit=limit, # top closest matches\n",
    "        with_vectors=True,\n",
    "        with_payload=True #to get metadata in the results\n",
    "        \n",
    "    )\n",
    "\n",
    "    return results"
   ]
  },
  {
   "cell_type": "code",
   "execution_count": 29,
   "id": "ad59489f-7bc0-46f1-8893-7ef875502530",
   "metadata": {},
   "outputs": [],
   "source": [
    "response = search('I just discovered the course. Can I join now?')"
   ]
  },
  {
   "cell_type": "code",
   "execution_count": 40,
   "id": "69cb351c-a0b2-4fb0-ab69-70a424d6ac49",
   "metadata": {},
   "outputs": [
    {
     "data": {
      "text/plain": [
       "-0.10889833"
      ]
     },
     "execution_count": 40,
     "metadata": {},
     "output_type": "execute_result"
    }
   ],
   "source": [
    "min(response.points[0].vector)"
   ]
  },
  {
   "cell_type": "code",
   "execution_count": 48,
   "id": "07e6b56a-72c5-4d42-9bf4-be28f5bfd2b8",
   "metadata": {},
   "outputs": [
    {
     "data": {
      "text/plain": [
       "np.float64(0.9999999988807053)"
      ]
     },
     "execution_count": 48,
     "metadata": {},
     "output_type": "execute_result"
    }
   ],
   "source": [
    "import numpy as np\n",
    "q = response.points[0].vector\n",
    "np.linalg.norm(q)"
   ]
  },
  {
   "cell_type": "code",
   "execution_count": 49,
   "id": "ca79799c-6a9c-4607-b38b-70b450ac168d",
   "metadata": {},
   "outputs": [
    {
     "data": {
      "text/plain": [
       "np.float64(0.9999999977614107)"
      ]
     },
     "execution_count": 49,
     "metadata": {},
     "output_type": "execute_result"
    }
   ],
   "source": [
    "np.dot(q, q)"
   ]
  },
  {
   "cell_type": "code",
   "execution_count": 57,
   "id": "18450ef7-a8c7-4726-bd1c-8db715211e40",
   "metadata": {},
   "outputs": [],
   "source": [
    "doc = 'Can I still join the course after the start date?'\n",
    "\n",
    "point = models.PointStruct(\n",
    "            id=id,\n",
    "            vector=models.Document(text=doc, model=model_handle), #embed text locally with \"jinaai/jina-embeddings-v2-small-en\" from FastEmbed\n",
    "        )"
   ]
  },
  {
   "cell_type": "code",
   "execution_count": 61,
   "id": "19313005-8afb-41d1-889b-970c9c9d7dd7",
   "metadata": {},
   "outputs": [
    {
     "data": {
      "text/plain": [
       "True"
      ]
     },
     "execution_count": 61,
     "metadata": {},
     "output_type": "execute_result"
    }
   ],
   "source": [
    "# Define the collection name\n",
    "collection_name = \"zoomcamp-doc-q2\"\n",
    "\n",
    "# Create the collection with specified vector parameters\n",
    "qd_client.create_collection(\n",
    "    collection_name=collection_name,\n",
    "    vectors_config=models.VectorParams(\n",
    "        size=EMBEDDING_DIMENSIONALITY,  # Dimensionality of the vectors\n",
    "        distance=models.Distance.COSINE  # Distance metric for similarity search\n",
    "    )\n",
    ")"
   ]
  },
  {
   "cell_type": "code",
   "execution_count": 63,
   "id": "35694d98-e089-4fad-81d2-1cf9cb6e835f",
   "metadata": {},
   "outputs": [
    {
     "data": {
      "text/plain": [
       "UpdateResult(operation_id=0, status=<UpdateStatus.COMPLETED: 'completed'>)"
      ]
     },
     "execution_count": 63,
     "metadata": {},
     "output_type": "execute_result"
    }
   ],
   "source": [
    "qd_client.upsert(\n",
    "    collection_name=collection_name,\n",
    "    points=[point]\n",
    ")"
   ]
  },
  {
   "cell_type": "code",
   "execution_count": 64,
   "id": "101f8d0d-a6a9-43de-8c78-b864ccde4c7c",
   "metadata": {},
   "outputs": [],
   "source": [
    "response = search('I just discovered the course. Can I join now?')\n"
   ]
  },
  {
   "cell_type": "code",
   "execution_count": 65,
   "id": "3e37edeb-8fe5-4083-acd2-0d4186d257a2",
   "metadata": {},
   "outputs": [
    {
     "data": {
      "text/plain": [
       "QueryResponse(points=[ScoredPoint(id=948, version=0, score=0.9008529, payload={}, vector=[-0.05453039, -0.07834517, 0.031361036, 0.023423493, -0.030632148, -0.055104163, 0.022472648, 0.015038616, -0.018115958, 0.018059535, -0.0048089228, -0.07573959, -0.0048727216, -0.09077178, 0.048394088, -0.04263174, -0.026146252, -0.044812914, -0.020692602, -0.037905447, -0.033032935, -0.008028502, 0.011856035, -0.03837212, 0.07263781, -0.058281176, -0.07308902, 0.034091137, 0.056070536, 0.050268475, -0.059929334, 0.05330166, -0.017952451, 0.004177451, -0.02454279, 0.013228825, 0.046417832, 0.010996376, -0.010149964, -0.0057752416, -0.00028398776, 0.049149636, 0.11121484, -0.027630642, -0.067892395, -0.018592827, -0.12396321, 0.012574593, 0.016529871, 0.00722243, -0.027723745, 0.051807355, -0.05986048, 0.05273394, 0.010384407, 0.04820913, -0.022902327, 0.015879998, -0.048051156, 0.010248942, 0.013788453, 0.038744498, -0.057989437, 0.05691391, -0.031520545, -0.026749857, -0.044805452, -0.040970754, -0.09204475, -0.005961161, -0.054933567, -0.0053422386, 0.06680548, -0.05452177, -0.008698386, 0.014044658, -0.039600894, 0.039323676, -0.019675177, -0.0016311057, -0.00680347, -0.033159938, 0.004858791, -0.038898908, -0.0034054453, -0.05198906, 0.030815046, -0.027041137, 0.06880273, -0.00085918495, -0.030557781, 0.080685996, -0.018616946, -0.06453289, -0.05042765, -0.03781182, 0.059976015, 0.068733424, 0.011212515, 0.016454805, 0.11303667, -0.014629214, 0.10178224, -0.0340159, 0.03438522, 0.037586924, -0.05585729, 0.0031079438, -0.116664074, -0.009978009, 0.014995977, -0.068705074, -0.032911517, -0.005936865, -0.06926245, 0.01508007, 0.058511894, -0.05484877, -0.025717895, -0.035600748, 7.275296e-05, 0.0005300028, -0.03352856, 0.021270491, 0.049506538, 0.036636278, -0.0022505166, 0.026512893, -0.032298975, -0.006862517, -0.013444221, -0.0080896355, -0.012910764, 0.02480413, 0.1401441, -0.03865883, 0.0250565, 0.038734935, -0.061451707, 0.035439666, -0.042516425, -0.06416913, 0.04632891, -0.032439746, -0.028825585, 0.013096427, 0.045363475, -0.021236088, -0.05389941, -0.0012804097, -0.020822262, 0.039394222, -0.081791975, 0.026144704, 0.004937147, 0.083967134, -0.028563328, 0.046293434, 0.013085121, 0.00434111, -0.014611856, 0.055602103, 0.003255211, -0.06569591, -0.012480979, -0.009015182, 0.04679276, 0.071478486, -0.03473582, 0.006190062, 0.058234185, 0.03136326, -0.08915606, 0.023016494, -0.0731166, -0.024862193, -0.019507593, 0.019011648, -0.038064577, -0.034119878, 0.051055387, -0.03437948, -0.026698919, 0.009701989, 0.010824014, -0.07859339, -0.038456656, 0.015683921, 0.038044915, -0.022645421, -0.004786097, 0.011510029, 0.0036098398, -0.018999679, -0.017927181, 0.0368781, -0.021001542, 0.0236493, 0.014056396, 0.00352257, 0.027135404, 0.07652266, -0.060129084, 0.030516246, -0.04588068, 0.02248985, -0.02509205, -0.056375917, -0.022945173, -0.004278569, 0.03571652, -0.0035525863, 0.089150764, 0.021267049, -0.0003747355, -0.022427155, -0.021966467, -0.041897092, 0.026556825, -0.039378375, -0.0016830356, 0.012646829, 0.0044398494, 0.05055788, -0.024474712, -0.039439254, 0.015263813, 0.012897372, -0.0031546513, -0.047259297, 0.11782507, -0.052553657, -0.05324482, 0.010515962, 0.045807738, -0.02477396, -0.0025760366, -0.021975601, -0.038766768, -0.013610637, -0.049846414, 0.0061211553, 0.05663797, -0.032338437, 0.0012003663, 0.035274606, 0.05160792, -0.036263138, 0.056271072, 0.053307362, -0.036344316, -0.040370345, -0.036199123, -0.06260612, -0.0083156815, 0.041388202, -0.028873023, 0.052249406, -0.07344021, -0.035356656, 0.020984855, 0.06310855, 0.004609871, 0.096370056, -0.009673757, -0.008952092, -0.07692271, -0.009608928, 0.021477027, 0.02300094, 0.0031054178, 0.005051526, 0.01639365, -0.0206681, -0.060601786, -0.030388305, 0.049644213, 0.020335022, 0.03663503, -0.039529584, -0.051106025, 0.0316693, 0.004380434, 0.022118751, 0.0562609, -0.014186501, 0.03596959, 0.075952105, 0.10604726, 0.0014501987, 0.0060323565, -0.09005736, -0.0050126743, -0.032307144, -0.0024683527, 0.086979955, 0.050612364, 0.02369656, 0.008115339, 0.055449378, 0.017799936, 0.031119984, -0.035562243, -0.025292479, 0.023145527, 0.015994104, 0.03101153, -0.015452211, -0.016324352, -0.062596366, 0.0057359883, -0.046848092, -0.024846582, 0.042961046, 0.053224888, 0.0017727263, 0.033780564, -0.08398649, -0.053805046, 0.01189494, -0.0066188597, -0.038960204, 0.057747617, 0.020715637, 0.035991173, 0.05058722, -0.064457856, 0.0033200516, 0.011072353, -0.018658182, -0.018573835, 0.0012730731, -0.04628667, -0.07171918, -0.041946135, -0.0013151848, -0.029280607, -0.08032365, 0.012932714, -0.03370907, 0.029310388, -0.0037580275, -0.0014484517, 0.10054827, -0.01005649, -0.024626609, 0.04053921, 0.0033588628, -0.053446963, -0.02543281, -0.015254357, -0.01437095, -0.018567711, -0.0021396894, -0.087300174, -0.016063368, 0.030246165, -0.034906294, -0.022564948, 0.100616135, 0.0030022236, -0.055097762, -0.023553915, 0.09525224, 0.069201574, -0.021848504, 0.00024909907, -0.034907065, 0.04737357, 0.03601434, 0.08327148, 0.04125495, 0.025414348, -0.048555493, 0.027400425, -0.03804268, 0.059127808, 0.025324497, -0.03369107, -0.019090163, 0.029626172, 0.024338102, -0.02391626, -0.045128852, -0.027256839, 0.010933056, 0.018631082, -0.001849716, 0.009468776, -0.01155594, -0.024924396, -0.035072453, -0.04037387, 0.04196305, 0.06676912, -0.073026225, 0.07563604, 0.060634624, -0.001560672, 0.02906267, -0.019871293, 0.021563092, -0.03380162, -0.007296022, -0.024438905, -0.016348017, -0.07874989, -0.025695456, 0.014030669, 0.0032540893, 0.05299744, 0.018384442, 0.034186568, 0.03955367, -0.038830318, -0.07369271, -0.090413995, -0.047558777, -0.026291909, 0.008760703, 0.018520445, 0.0057121143, -0.023133755, 0.03007515, 0.0558853, 0.006046486, 0.04203799, -0.044314835, 0.060901634, 0.021554597, -0.015515915, -0.051812723, -0.028861178, 0.049642075, -0.017378176, 0.022264957, 0.018409314, -0.05657597, 0.052607987, -0.0043727285, 0.097556844, -0.087618254, 0.038492337, 0.034306936, 0.100228235, 0.08323109, 0.013972967, -0.02920884, -0.026461279, 0.04505955, 0.045076825, 0.06562655, -0.025714861, 0.043814104, -0.009092007, 0.032456685, -0.010052404, -0.12289983, 0.026378334, 0.04243696, 0.041651703, -0.056828886, -0.0915505, 0.01930859, -0.011346786, -0.012421942, 0.025725473, 0.033811547, 0.01955349, -0.009046328, 0.0048167906, -0.06696646, 0.0010412439, 0.021235198, 0.09026971, 0.03460806, 0.05179775, 0.044768326, -0.06940265, 0.09753953, -0.046439618, -0.060506783, -0.07177515, -0.061659854, -0.042283703, 0.0006492992, 0.014800269, -0.0043354295, 0.099197425, 0.023680244, -0.05637402, -0.06303828, 0.0064743957, -0.02774474, -0.04935212, 0.00895176, 0.00634117, -0.03777013, 0.084666856, 0.03988926, 0.04745732, -0.07418304, 0.040468942, 0.065727144, -0.0106213745, 0.029607808, -0.006053229, -0.03269042, -0.07250637, 0.07731074, 0.0561754, 0.0062051597], shard_key=None, order_value=None)])"
      ]
     },
     "execution_count": 65,
     "metadata": {},
     "output_type": "execute_result"
    }
   ],
   "source": [
    "response"
   ]
  },
  {
   "cell_type": "code",
   "execution_count": 66,
   "id": "ae103d80-216f-4783-9b6a-87e3748c634c",
   "metadata": {},
   "outputs": [
    {
     "data": {
      "text/plain": [
       "np.float64(0.8638822239594446)"
      ]
     },
     "execution_count": 66,
     "metadata": {},
     "output_type": "execute_result"
    }
   ],
   "source": [
    "q2 = response.points[0].vector\n",
    "np.dot(q, q2)"
   ]
  },
  {
   "cell_type": "code",
   "execution_count": 67,
   "id": "cdce8dcf-48a8-4305-b236-8bffa7e00292",
   "metadata": {},
   "outputs": [],
   "source": [
    "documents = [{'text': \"Yes, even if you don't register, you're still eligible to submit the homeworks.\\nBe aware, however, that there will be deadlines for turning in the final projects. So don't leave everything for the last minute.\",\n",
    "  'section': 'General course-related questions',\n",
    "  'question': 'Course - Can I still join the course after the start date?',\n",
    "  'course': 'data-engineering-zoomcamp'},\n",
    " {'text': 'Yes, we will keep all the materials after the course finishes, so you can follow the course at your own pace after it finishes.\\nYou can also continue looking at the homeworks and continue preparing for the next cohort. I guess you can also start working on your final capstone project.',\n",
    "  'section': 'General course-related questions',\n",
    "  'question': 'Course - Can I follow the course after it finishes?',\n",
    "  'course': 'data-engineering-zoomcamp'},\n",
    " {'text': \"The purpose of this document is to capture frequently asked technical questions\\nThe exact day and hour of the course will be 15th Jan 2024 at 17h00. The course will start with the first  “Office Hours'' live.1\\nSubscribe to course public Google Calendar (it works from Desktop only).\\nRegister before the course starts using this link.\\nJoin the course Telegram channel with announcements.\\nDon’t forget to register in DataTalks.Club's Slack and join the channel.\",\n",
    "  'section': 'General course-related questions',\n",
    "  'question': 'Course - When will the course start?',\n",
    "  'course': 'data-engineering-zoomcamp'},\n",
    " {'text': 'You can start by installing and setting up all the dependencies and requirements:\\nGoogle cloud account\\nGoogle Cloud SDK\\nPython 3 (installed with Anaconda)\\nTerraform\\nGit\\nLook over the prerequisites and syllabus to see if you are comfortable with these subjects.',\n",
    "  'section': 'General course-related questions',\n",
    "  'question': 'Course - What can I do before the course starts?',\n",
    "  'course': 'data-engineering-zoomcamp'},\n",
    " {'text': 'Star the repo! Share it with friends if you find it useful ❣️\\nCreate a PR if you see you can improve the text or the structure of the repository.',\n",
    "  'section': 'General course-related questions',\n",
    "  'question': 'How can we contribute to the course?',\n",
    "  'course': 'data-engineering-zoomcamp'}]"
   ]
  },
  {
   "cell_type": "code",
   "execution_count": null,
   "id": "a2bffb3f-0d98-40ef-a6e3-2120c7f5d50d",
   "metadata": {},
   "outputs": [],
   "source": [
    "# Define the collection name\n",
    "collection_name = \"zoomcamp-q3\"\n",
    "\n",
    "# Create the collection with specified vector parameters\n",
    "qd_client.create_collection(\n",
    "    collection_name=collection_name,\n",
    "    vectors_config=models.VectorParams(\n",
    "        size=EMBEDDING_DIMENSIONALITY,  # Dimensionality of the vectors\n",
    "        distance=models.Distance.COSINE  # Distance metric for similarity search\n",
    "    )\n",
    ")"
   ]
  },
  {
   "cell_type": "code",
   "execution_count": 86,
   "id": "ee1e6269-42df-4824-a012-6191edd2b996",
   "metadata": {},
   "outputs": [],
   "source": [
    "points = []\n",
    "id = 0\n",
    "\n",
    "for doc in documents:\n",
    "    point = models.PointStruct(\n",
    "        id=id,\n",
    "        vector=models.Document(text=doc['text'], model=model_handle), #embed text locally with \"jinaai/jina-embeddings-v2-small-en\" from FastEmbed\n",
    "        payload={\n",
    "            \"text\": doc['text'],\n",
    "            \"section\": doc['section'],\n",
    "            \"course\": course['course']\n",
    "        } #save all needed metadata fields\n",
    "    )\n",
    "    points.append(point)\n",
    "\n",
    "    id += 1"
   ]
  },
  {
   "cell_type": "code",
   "execution_count": 87,
   "id": "f68302f0-3726-49a6-a018-2643bef6b909",
   "metadata": {},
   "outputs": [
    {
     "data": {
      "text/plain": [
       "PointStruct(id=0, vector=Document(text=\"Yes, even if you don't register, you're still eligible to submit the homeworks.\\nBe aware, however, that there will be deadlines for turning in the final projects. So don't leave everything for the last minute.\", model='jinaai/jina-embeddings-v2-small-en', options=None), payload={'text': \"Yes, even if you don't register, you're still eligible to submit the homeworks.\\nBe aware, however, that there will be deadlines for turning in the final projects. So don't leave everything for the last minute.\", 'section': 'General course-related questions', 'course': 'mlops-zoomcamp'})"
      ]
     },
     "execution_count": 87,
     "metadata": {},
     "output_type": "execute_result"
    }
   ],
   "source": [
    "points[0]"
   ]
  },
  {
   "cell_type": "code",
   "execution_count": 72,
   "id": "ff584398-d65d-4366-ab66-461cf59ddd01",
   "metadata": {},
   "outputs": [
    {
     "data": {
      "text/plain": [
       "UpdateResult(operation_id=0, status=<UpdateStatus.COMPLETED: 'completed'>)"
      ]
     },
     "execution_count": 72,
     "metadata": {},
     "output_type": "execute_result"
    }
   ],
   "source": [
    "qd_client.upsert(\n",
    "    collection_name=collection_name,\n",
    "    points=points\n",
    ")"
   ]
  },
  {
   "cell_type": "code",
   "execution_count": 73,
   "id": "38d2a1fa-111b-41df-a673-cae17b2429f8",
   "metadata": {},
   "outputs": [],
   "source": [
    "def search(query, limit=1):\n",
    "\n",
    "    results = qd_client.query_points(\n",
    "        collection_name=collection_name,\n",
    "        query=models.Document( #embed the query text locally with \"jinaai/jina-embeddings-v2-small-en\"\n",
    "            text=query,\n",
    "            model=model_handle \n",
    "        ),\n",
    "        limit=limit, # top closest matches\n",
    "        with_vectors=True,\n",
    "        with_payload=True #to get metadata in the results\n",
    "        \n",
    "    )\n",
    "\n",
    "    return results"
   ]
  },
  {
   "cell_type": "code",
   "execution_count": 78,
   "id": "7c572290-4430-4ae6-90ae-3f1ccdf317cd",
   "metadata": {},
   "outputs": [],
   "source": [
    "query = 'I just discovered the course. Can I join now?'"
   ]
  },
  {
   "cell_type": "code",
   "execution_count": 79,
   "id": "05d1c8cf-5b17-4756-9fac-7529897d971b",
   "metadata": {},
   "outputs": [
    {
     "data": {
      "text/plain": [
       "QueryResponse(points=[ScoredPoint(id=1, version=0, score=0.8182378, payload={'text': 'Yes, we will keep all the materials after the course finishes, so you can follow the course at your own pace after it finishes.\\nYou can also continue looking at the homeworks and continue preparing for the next cohort. I guess you can also start working on your final capstone project.', 'section': 'General course-related questions', 'course': 'mlops-zoomcamp'}, vector=[-0.059470892, -0.08523984, 0.0129208835, 0.028512737, -0.02816201, -0.040005114, 0.008416977, 0.051821243, -0.026958339, -0.011239185, 0.005320356, -0.063366205, 0.01483236, -0.09491826, 0.042256217, -0.045051593, -0.0017500113, -0.033401098, -0.06472191, -0.037634823, -0.059090544, -0.0023075656, 0.055512384, -0.018641295, 0.09813543, -0.05908135, -0.056841217, 0.07473078, 0.047964424, 0.028064102, -0.041140694, 0.065692306, -0.011913598, 0.008643482, -0.025080383, -0.012139176, 0.033481337, 0.021419918, -0.03224748, -0.06463362, -0.032257818, 0.019004356, 0.110666275, 0.052878115, -0.042115543, -0.0066698208, -0.09018229, 0.045335844, 0.011706349, 0.019959835, -0.04804985, 0.012667335, -0.04873674, 0.07220508, 0.0023254263, 0.05167768, -0.014931753, 0.015965046, -0.055156346, 0.03076216, 0.022869976, 0.020379035, -0.08317425, 0.057225265, -0.014160387, -0.041698765, -0.04192128, -0.025601342, -0.11809979, 0.035355765, -0.093661465, 0.00024200186, 0.102392405, -0.058865607, 0.022362726, 0.04848665, -0.027898964, 0.08178486, 0.013024812, -0.038060706, -0.047305446, 0.028059473, 0.002035483, 0.011497606, 0.03072608, -0.056569416, 0.032220755, -0.0012787057, 0.037174065, -0.036618575, 0.005862927, 0.023482086, -0.0054872655, -0.051515445, -0.0023178405, -0.049973924, 0.045596935, 0.043311507, 0.020885624, 0.03460558, 0.074427634, -0.017078416, 0.09313911, -0.009865612, 0.052941687, 0.07636598, -0.0589639, 0.01644177, -0.0935919, -0.028771346, 0.011436926, -0.035079863, -0.043903228, 0.017709594, -0.024766827, -0.00226295, 0.02342694, -0.05668576, -0.046248533, -0.053062152, 0.0120526245, 0.00054717646, -0.010536657, 0.06510661, 0.047716383, 0.08653488, -0.00566335, 0.06867616, -0.086599395, 0.009646588, -0.0066799554, -0.003918588, 0.017557772, 0.0029424857, 0.10291296, -0.026014747, 0.05867235, 0.026148535, -0.06261158, 0.041851114, -0.07575658, -0.03541454, 0.0033838877, -0.03450441, 0.01297122, 0.015678206, 0.03638254, 0.0015781466, -0.066531345, 0.0043876083, -0.04219848, -9.500871e-06, -0.054784324, 0.029151313, -0.0021202601, 0.082164675, -0.05212145, 0.019029798, 0.021700004, 0.010837121, -0.010781025, 0.053587373, -0.0036822262, -0.043164864, 0.004950775, 0.025119657, 0.056049343, 0.08678923, -0.04472465, -0.008214741, 0.07554816, -0.018503677, -0.08324285, -0.027857514, -0.06977572, 0.0058017476, -0.062338326, 0.055531513, -0.03169221, -0.017061498, 0.02539355, -0.052985325, -0.013093207, 0.020343076, 0.024345715, -0.04548255, 0.011082039, 0.022604175, 0.043705035, -0.0021985928, -0.0056582955, -0.008005304, -0.018808948, -0.011630587, -0.0027512764, 0.07694951, -0.050892122, 0.04774705, -0.023228422, 0.015108553, 0.039480302, 0.050289545, -0.033383444, 0.03196156, -0.060103767, 0.024982255, -0.02353369, -0.03002764, -0.021186706, 0.020517515, 0.026600312, 0.0016014081, 0.022130445, 0.007099089, -0.014967183, -0.031539775, -0.019886097, -0.032634296, -0.0035596308, -0.029058212, 0.011271228, 0.02819281, -0.019183746, 0.033450145, -0.026687613, -0.049021795, 0.015812304, -0.015289757, 0.00077207905, -0.025085695, 0.060990535, -0.093293905, -0.048104152, 0.055046234, 0.05243457, -0.011140097, -0.018648254, -0.045522083, -0.03454954, -0.04690637, -0.011989551, 0.031593654, 0.085650526, -0.010356354, -0.019759832, 0.054090448, 0.043946974, -0.04414973, 0.036798447, 0.087428644, -0.021117179, -0.06960897, -0.06690816, -0.12007246, -0.014965652, 0.06606124, 0.011000085, 0.07254535, -0.06203837, -0.047412097, -0.026062869, 0.06831106, 0.022814916, 0.062284052, -0.037940346, 0.01644282, -0.04491694, -0.031200763, 0.044570543, 0.048043404, 0.035416946, 0.01413068, 0.034264773, -0.029964067, -0.042198375, -0.012271017, 0.044719145, 0.043441765, 0.05926448, -0.036095146, -0.031697128, 0.0094708465, -0.014439312, -0.0063978257, 0.06449837, -0.0024094486, 0.067781426, 0.049989678, 0.11122737, -0.022448376, 0.056745734, -0.08363007, 0.015933469, -0.0061717685, 0.0098489225, 0.06781823, 0.06838872, 0.013317171, -0.019251846, 0.011003971, 0.012442871, 0.036802568, -0.037314236, -0.054714497, 0.055161197, -0.042986088, 0.009587554, -0.0005738646, -0.0066869273, -0.036605094, -0.0004548093, -0.051843118, -0.014683962, -0.003360063, 0.040404815, 0.00030894575, 0.038586304, -0.080608755, -0.02000498, -0.008897207, -0.054753877, -0.01800123, 0.09071403, 0.024021937, -0.0078035216, 0.04717639, -0.0747764, -0.032146636, -0.03616995, -0.046331033, -0.04834671, -0.016089613, -0.033895224, -0.08002943, -0.007656163, 0.00312708, -0.050595745, -0.08495032, -0.010141331, -0.0509991, 0.013871388, -0.0055464655, 0.00086686475, 0.0886329, 0.012775988, 0.010484633, 0.028620396, 0.021469204, -0.060200155, -0.013005902, 0.005040545, -0.028982058, -0.023070727, 0.017698096, -0.05356747, -0.012796777, -0.023783546, -0.016767312, 0.018545173, 0.09523154, -0.003910043, -0.06083558, 0.006362731, 0.060525045, 0.029161768, -0.026323838, -0.012548382, -0.00046410045, 0.039167874, 0.046634443, 0.071244046, -0.0006982818, 0.06500945, -0.027182484, 0.016661022, -0.027300334, 0.04732484, -0.029615665, -0.011253323, -0.01183213, 0.009669778, 0.08069544, 0.004279596, -0.0520505, -0.0015915585, 0.030873226, 0.010696998, -0.03404868, 0.0028920358, -0.010073003, -0.036254484, -0.04116261, -0.027242947, 0.048551347, 0.07250556, -0.047298737, 0.06263135, 0.048985746, -0.007028483, 0.010751613, -0.0069856993, 0.033724934, -0.0003518758, -0.03148992, -0.0062443772, -0.048180316, -0.05827601, -0.006922781, 0.03661974, 0.036265545, 0.039921086, -0.013137665, -0.0019765082, 0.05127058, -0.017792553, -0.018376693, -0.055506334, -0.012757739, 0.01994767, 0.012937644, 0.047689375, 0.020246003, -0.0522881, 0.00063177786, 0.032780476, 0.014179426, 0.02628072, -0.013632866, 0.055190247, 0.027443718, 0.025345767, -0.06693634, -0.04058486, 0.0390535, -0.024598638, 0.013492714, 0.0073331813, -0.08823081, 0.075109676, -0.03427176, 0.07623, -0.108601734, 0.052123502, -0.004088781, 0.04271018, 0.078132555, 0.033400163, -0.012449106, -0.016624816, 0.024046272, 0.054192163, 0.049061097, -0.03543696, 0.03429099, -0.022344848, 0.008854004, -0.037665155, -0.113290586, -0.004726359, 0.058314927, 0.016931735, -0.02365304, -0.07458829, 0.032722473, -0.013966019, -0.013889629, 0.028161857, 0.027957715, -0.032989837, 0.0018385954, -0.008279685, -0.107517794, -0.014453409, 0.04013642, 0.061716054, 0.023031896, 0.044818074, 0.042670205, -0.063284256, 0.052522372, -0.033301715, -0.06720097, -0.07956597, -0.07841879, -0.06402234, -0.025433062, 0.033308994, 0.011027766, 0.05740732, 0.03707184, -0.04445524, -0.043233126, -0.014519633, -0.060102146, -0.032786764, 0.029173052, 0.028121702, -0.047774613, 0.08592857, 0.053578213, 0.04535492, -0.04956272, 0.04217148, 0.02378793, 0.0023139378, 0.052859884, -0.0123587875, -0.013558938, -0.07610212, 0.09599708, 0.05420842, -0.00029458557], shard_key=None, order_value=None)])"
      ]
     },
     "execution_count": 79,
     "metadata": {},
     "output_type": "execute_result"
    }
   ],
   "source": [
    "search(query)"
   ]
  },
  {
   "cell_type": "code",
   "execution_count": null,
   "id": "6e3a5d2b-3dc4-4ee5-94e1-877b798d9332",
   "metadata": {},
   "outputs": [],
   "source": [
    "# Define the collection name\n",
    "collection_name = \"zoomcamp-q4\"\n",
    "\n",
    "# Create the collection with specified vector parameters\n",
    "qd_client.create_collection(\n",
    "    collection_name=collection_name,\n",
    "    vectors_config=models.VectorParams(\n",
    "        size=EMBEDDING_DIMENSIONALITY,  # Dimensionality of the vectors\n",
    "        distance=models.Distance.COSINE  # Distance metric for similarity search\n",
    "    )\n",
    ")"
   ]
  },
  {
   "cell_type": "code",
   "execution_count": 88,
   "id": "bd7c158c-eeb3-4919-abdc-13777ebe2339",
   "metadata": {},
   "outputs": [],
   "source": [
    "points = []\n",
    "id = 0\n",
    "\n",
    "for doc in documents:\n",
    "    point = models.PointStruct(\n",
    "        id=id,\n",
    "        vector=models.Document(text=doc['question'] + ' ' + doc['text'], model=model_handle), #embed text locally with \"jinaai/jina-embeddings-v2-small-en\" from FastEmbed\n",
    "        payload={\n",
    "            \"text\": doc['text'],\n",
    "            \"section\": doc['section'],\n",
    "            \"course\": course['course']\n",
    "        } #save all needed metadata fields\n",
    "    )\n",
    "    points.append(point)\n",
    "\n",
    "    id += 1"
   ]
  },
  {
   "cell_type": "code",
   "execution_count": 89,
   "id": "18b188b1-792f-4522-aae5-dc80fd003182",
   "metadata": {},
   "outputs": [
    {
     "data": {
      "text/plain": [
       "PointStruct(id=0, vector=Document(text=\"Course - Can I still join the course after the start date? Yes, even if you don't register, you're still eligible to submit the homeworks.\\nBe aware, however, that there will be deadlines for turning in the final projects. So don't leave everything for the last minute.\", model='jinaai/jina-embeddings-v2-small-en', options=None), payload={'text': \"Yes, even if you don't register, you're still eligible to submit the homeworks.\\nBe aware, however, that there will be deadlines for turning in the final projects. So don't leave everything for the last minute.\", 'section': 'General course-related questions', 'course': 'mlops-zoomcamp'})"
      ]
     },
     "execution_count": 89,
     "metadata": {},
     "output_type": "execute_result"
    }
   ],
   "source": [
    "points[0]"
   ]
  },
  {
   "cell_type": "code",
   "execution_count": null,
   "id": "95319340-a417-4690-8241-167ef322e0be",
   "metadata": {},
   "outputs": [],
   "source": []
  },
  {
   "cell_type": "code",
   "execution_count": null,
   "id": "9e3224e3-87f6-4d0e-877c-04bcbf6f424e",
   "metadata": {},
   "outputs": [],
   "source": []
  },
  {
   "cell_type": "code",
   "execution_count": null,
   "id": "482f3e89-acd4-415c-932d-ec9e42bbec92",
   "metadata": {},
   "outputs": [],
   "source": []
  },
  {
   "cell_type": "code",
   "execution_count": 91,
   "id": "b503dcec-1b90-4529-bb2c-388c21d49f19",
   "metadata": {},
   "outputs": [
    {
     "data": {
      "text/plain": [
       "UpdateResult(operation_id=0, status=<UpdateStatus.COMPLETED: 'completed'>)"
      ]
     },
     "execution_count": 91,
     "metadata": {},
     "output_type": "execute_result"
    }
   ],
   "source": [
    "qd_client.upsert(\n",
    "    collection_name=collection_name,\n",
    "    points=points\n",
    ")"
   ]
  },
  {
   "cell_type": "code",
   "execution_count": 92,
   "id": "4d14326e-616d-4036-829f-3058f6d0cbaa",
   "metadata": {},
   "outputs": [
    {
     "data": {
      "text/plain": [
       "QueryResponse(points=[ScoredPoint(id=0, version=0, score=0.8514543, payload={'text': \"Yes, even if you don't register, you're still eligible to submit the homeworks.\\nBe aware, however, that there will be deadlines for turning in the final projects. So don't leave everything for the last minute.\", 'section': 'General course-related questions', 'course': 'mlops-zoomcamp'}, vector=[-0.03958747, -0.06904071, 0.011466174, 0.02626039, -0.024734093, -0.024720704, 0.003439712, 0.042785935, -0.024162956, -0.026199229, -0.014921463, -0.078817844, -0.024740098, -0.07740146, 0.07686429, -0.04656838, -0.030845454, -0.044565715, -0.04481412, -0.060655635, -0.036711317, -0.01800093, 0.031952262, -0.06805735, 0.059340063, -0.07107091, -0.08380715, 0.07134353, 0.07235555, 0.024347804, -0.05510248, 0.029459156, -0.01830824, 0.025609976, -0.03172867, 0.027675109, 0.049635842, 0.013883932, -0.020100303, -0.0028251305, -0.029371912, 0.028263267, 0.100648426, 0.0028943736, -0.07165612, 0.0007678592, -0.08024244, 0.011240778, 0.025550395, 0.0153881665, -0.033438038, 0.02859502, -0.07989594, 0.034472, -0.0076539665, 0.066322885, -0.010571329, 0.024312275, -0.040355776, -0.0028037382, -0.0017486165, 0.030156886, -0.053803634, 0.055337224, -0.010549616, -0.03691965, -0.030680677, -0.027392648, -0.10284296, 0.016560756, -0.09235247, 0.019417357, 0.074783616, -0.037187442, -0.0028790385, 0.042985853, -0.036176473, 0.06327018, 0.006972729, -0.036548562, -0.0071746972, 0.014703999, 0.0049941353, -0.04036374, 0.037977137, -0.03524048, 0.053738706, -0.009404625, 0.06290837, 0.003199308, -0.018874066, 0.05872742, -0.022026556, -0.056836672, -0.038396254, -0.054037213, 0.05466513, 0.06276627, 0.012520442, 0.015159217, 0.06398781, -0.00092026056, 0.09304316, -0.01914437, 0.011520775, 0.046101414, -0.018310148, -0.013496306, -0.111972794, -0.0025632582, 0.0025320612, -0.039448205, -0.015993169, -0.014560079, -0.05543254, -0.006866912, 0.06268586, -0.07159822, -0.04360403, -0.049906824, 0.02317064, -0.0035471227, -0.02213409, 0.035740163, 0.046395957, 0.058123633, -0.015089625, 0.029095206, -0.050909687, 0.021188987, -0.013351494, 0.0015092203, -0.053447478, 0.030104442, 0.12214825, -0.052581403, 0.03925207, 0.044178434, -0.077377416, 0.060089014, -0.05256035, -0.056129087, 0.049356207, -0.034109477, -0.0075294757, -0.0062106834, 0.042658936, -0.0063595795, -0.048412994, 0.023889268, -0.0170497, 0.045763757, -0.095338374, 0.025613708, -0.00022341643, 0.081468135, -0.02515122, 0.05422166, 0.026569907, -0.008363563, -0.020065945, 0.06510897, 0.0075908387, -0.05996314, 0.003024182, 0.010344357, 0.03310258, 0.09050836, -0.046385743, 0.00032408492, 0.06650034, 0.031845577, -0.07797177, 0.005315618, -0.07789725, -0.05119566, -0.043922674, 0.018532243, -0.05596939, -0.027670667, 0.02069572, -0.033162218, -0.015070126, 0.014604943, 0.007797175, -0.07986222, -0.036840227, 0.0025939816, 0.053145222, -8.088046e-05, -0.006712177, -0.006367041, -0.014548662, -0.030095134, -0.023606762, 0.062426988, -0.06910874, 0.05685762, 0.010098315, 0.017539417, 0.010375561, 0.061139405, -0.026033752, 0.040747512, -0.047514275, 0.032847732, -0.007963665, -0.047097407, -0.04050885, 0.0012606311, 0.019879654, 0.0025686084, 0.09233435, -0.005440035, -0.0076813456, -0.050428815, 0.015020447, -0.04808133, 0.010918966, -0.01850955, 0.010897818, 0.018964909, 0.0046916176, 0.053250328, -0.012111913, -0.056606468, 0.018095372, 0.00014702388, -0.002496451, -0.02877135, 0.07940119, -0.078729354, -0.046614926, 0.03479897, 0.041679922, -0.03781998, -0.0025943343, -0.03381016, -0.06620858, -0.025126603, -0.03462383, 0.02119961, 0.08603534, -0.01646364, -0.0015300456, 0.042493906, 0.036412783, -0.05379809, 0.062544495, 0.053096328, -0.030777693, -0.051443767, -0.05419304, -0.07130077, -0.0032815512, 0.036987863, -0.0011352538, 0.0674715, -0.06891752, -0.033971846, 0.0063266475, 0.06703508, 0.01214691, 0.07942249, 0.003393361, 0.001434363, -0.080087125, 0.0009883201, 0.034039225, -0.0015514711, 0.016054958, 0.0072586997, 0.0019016642, -0.020441072, -0.048919342, -0.044031654, 0.08028477, 0.023977788, 0.058237027, -0.028308244, -0.043577474, 0.013442711, 0.011008725, 0.007877839, 0.047267698, -0.01572111, 0.00027325278, 0.058208767, 0.106772676, -0.014757439, 0.027855683, -0.10396055, 0.015092208, -0.024054881, 0.008098656, 0.087982565, 0.03048776, 0.021666186, 0.012615662, 0.017521607, 0.008373175, 0.015300115, -0.037111, -0.038546715, -0.0060211597, 0.003812524, 0.075237386, -0.0059083006, -0.023376856, -0.03904999, 0.009422151, -0.0224847, 0.0062286146, 0.04692049, 0.07741534, 0.026500328, 0.03900371, -0.09576224, -0.06926063, 0.018433455, -0.0144743975, -0.042309433, 0.062137548, 0.04289046, 0.01558741, 0.0792779, -0.07659771, 0.016719947, -0.0046637044, -0.054756906, -0.03374816, -0.023334686, -0.04930399, -0.059880506, -0.039799202, -0.0023161508, 0.002792606, -0.05759131, 0.047322985, -0.03416652, 0.035849843, -0.013568013, 0.0029053113, 0.104250915, -0.010750155, -0.031868983, 0.022189481, -0.001591113, -0.08412451, -0.0021448538, -0.0010950088, -0.011057114, -0.0113223, 0.0049857805, -0.06788735, 0.004100532, 0.0021352002, -0.020339131, -0.025997095, 0.09947087, 0.0070350356, -0.039300155, -0.013743848, 0.066257276, 0.07938004, -0.040847745, -0.014272636, -0.038295366, 0.041814163, 0.05209793, 0.066787995, 0.023743201, 0.03443095, -0.047595423, 0.009740693, -0.0137008475, 0.06139044, -0.0026829683, -0.021099176, -0.02531359, 0.0064885044, 0.047148436, -0.034992732, -0.039092664, -0.027514303, 0.0132917175, 0.033204746, 0.0018080511, -0.0064166626, -0.017876549, -0.03750734, -0.017649274, -0.032299552, 0.045460623, 0.07446243, -0.090184055, 0.07807351, 0.0522544, -0.021331508, 0.027134351, -8.821319e-05, 0.016917799, -0.021864997, -0.020973237, -0.01494962, -0.038147308, -0.06797621, -0.010931503, 0.035468977, 0.014643076, 0.059162214, 0.014112838, 0.0025679294, 0.068977445, -0.0038894059, -0.03704659, -0.06572654, -0.042674944, -0.03143641, 0.01632324, 0.033539075, 0.019246697, -0.04965377, 0.044021804, 0.03016402, 0.011753869, 0.04118465, -0.036086243, 0.06538034, 0.033336326, 0.008967053, -0.05354449, -0.029791562, 0.034911603, -0.021235863, 0.015870376, -0.0056804996, -0.06698689, 0.0463398, -0.016466735, 0.07108735, -0.07521952, -0.0036566656, 0.030737635, 0.12080991, 0.07019251, -0.008805511, -0.03162461, -0.007241584, 0.01374922, 0.06558745, 0.07070251, -0.025254535, 0.042926766, -0.017257275, 0.031012192, -0.013259286, -0.10905857, 0.041878723, 0.045645736, 0.050856404, -0.0276354, -0.061516013, 0.015847312, -0.0064714234, 7.786108e-05, 0.017610734, 0.034634694, 0.027170327, -0.005895105, 0.0008331557, -0.08453588, -0.010413366, 0.048145425, 0.08003396, 0.05700802, 0.048376203, 0.035253316, -0.058211394, 0.0665034, -0.033201016, -0.07946924, -0.07573398, -0.0595117, -0.057963207, -0.00043038587, 0.024506597, 0.011386477, 0.08302691, 0.04182243, -0.06247924, -0.026919233, -0.026191147, -0.044488005, -0.049721874, 0.033994187, 0.032355886, -0.036453977, 0.06565756, 0.026142456, 0.049676046, -0.05656708, 0.032462597, 0.03825758, 0.011823777, 0.0113244485, -0.0069513405, -0.037014715, -0.06353736, 0.0911403, 0.04739896, -0.010331841], shard_key=None, order_value=None)])"
      ]
     },
     "execution_count": 92,
     "metadata": {},
     "output_type": "execute_result"
    }
   ],
   "source": [
    "search(query)"
   ]
  },
  {
   "cell_type": "code",
   "execution_count": 98,
   "id": "7c465166-dd24-4a3b-9690-a20b010ba465",
   "metadata": {},
   "outputs": [
    {
     "name": "stdout",
     "output_type": "stream",
     "text": [
      "{'model': 'BAAI/bge-small-en', 'sources': {'hf': 'Qdrant/bge-small-en', 'url': 'https://storage.googleapis.com/qdrant-fastembed/BAAI-bge-small-en.tar.gz', '_deprecated_tar_struct': True}, 'model_file': 'model_optimized.onnx', 'description': 'Text embeddings, Unimodal (text), English, 512 input tokens truncation, Prefixes for queries/documents: necessary, 2023 year.', 'license': 'mit', 'size_in_GB': 0.13, 'additional_files': [], 'dim': 384, 'tasks': {}}\n"
     ]
    }
   ],
   "source": [
    "from fastembed import TextEmbedding\n",
    "models_list = TextEmbedding.list_supported_models()\n",
    "import operator\n",
    "\n",
    "print(min(models_list, key=operator.itemgetter('dim')))"
   ]
  },
  {
   "cell_type": "code",
   "execution_count": 99,
   "id": "b70c3c1b-09a4-4a18-ab54-a4dc04804ec3",
   "metadata": {},
   "outputs": [],
   "source": [
    "model_handle = \"BAAI/bge-small-en\""
   ]
  },
  {
   "cell_type": "code",
   "execution_count": 100,
   "id": "95aa4bde-eb04-4f4a-a71a-646169c1b834",
   "metadata": {},
   "outputs": [],
   "source": [
    "import requests \n",
    "\n",
    "docs_url = 'https://github.com/alexeygrigorev/llm-rag-workshop/raw/main/notebooks/documents.json'\n",
    "docs_response = requests.get(docs_url)\n",
    "documents_raw = docs_response.json()\n",
    "\n",
    "\n",
    "documents = []\n",
    "\n",
    "for course in documents_raw:\n",
    "    course_name = course['course']\n",
    "    if course_name != 'machine-learning-zoomcamp':\n",
    "        continue\n",
    "\n",
    "    for doc in course['documents']:\n",
    "        doc['course'] = course_name\n",
    "        documents.append(doc)"
   ]
  },
  {
   "cell_type": "code",
   "execution_count": 109,
   "id": "6af2aeb0-3765-4f40-8512-f826fb9d7269",
   "metadata": {},
   "outputs": [
    {
     "data": {
      "text/plain": [
       "True"
      ]
     },
     "execution_count": 109,
     "metadata": {},
     "output_type": "execute_result"
    }
   ],
   "source": [
    "# Define the collection name\n",
    "collection_name = \"zoomcamp-q6\"\n",
    "EMBEDDING_DIMENSIONALITY=384\n",
    "\n",
    "# Create the collection with specified vector parameters\n",
    "qd_client.create_collection(\n",
    "    collection_name=collection_name,\n",
    "    vectors_config=models.VectorParams(\n",
    "        size=EMBEDDING_DIMENSIONALITY,  # Dimensionality of the vectors\n",
    "        distance=models.Distance.COSINE  # Distance metric for similarity search\n",
    "    )\n",
    ")"
   ]
  },
  {
   "cell_type": "code",
   "execution_count": 112,
   "id": "abe2b98c-e78a-4d41-aff1-9476a2295930",
   "metadata": {},
   "outputs": [],
   "source": [
    "points = []\n",
    "id = 0\n",
    "\n",
    "for doc in documents:\n",
    "    point = models.PointStruct(\n",
    "        id=id,\n",
    "        vector=models.Document(text = doc['question'] + ' ' + doc['text'], model=model_handle), #embed text locally with \"BAAI/bge-small-en\" from FastEmbed\n",
    "        payload={\n",
    "            \"text\": doc['text'],\n",
    "            \"section\": doc['section'],\n",
    "            \"course\": course['course']\n",
    "        } #save all needed metadata fields\n",
    "    )\n",
    "    points.append(point)\n",
    "\n",
    "    id += 1"
   ]
  },
  {
   "cell_type": "code",
   "execution_count": 113,
   "id": "d4a88365-8915-42aa-8e64-88d27b05b4f2",
   "metadata": {},
   "outputs": [
    {
     "data": {
      "text/plain": [
       "{'text': 'Machine Learning Zoomcamp FAQ\\nThe purpose of this document is to capture frequently asked technical questions.\\nWe did this for our data engineering course and it worked quite well. Check this document for inspiration on how to structure your questions and answers:\\nData Engineering Zoomcamp FAQ\\nIn the course GitHub repository there’s a link. Here it is: https://airtable.com/shryxwLd0COOEaqXo\\nwork',\n",
       " 'section': 'General course-related questions',\n",
       " 'question': 'How do I sign up?',\n",
       " 'course': 'machine-learning-zoomcamp'}"
      ]
     },
     "execution_count": 113,
     "metadata": {},
     "output_type": "execute_result"
    }
   ],
   "source": [
    "documents[0]"
   ]
  },
  {
   "cell_type": "code",
   "execution_count": 114,
   "id": "76a921c2-b192-4a67-9987-cb460e7ad60f",
   "metadata": {},
   "outputs": [
    {
     "data": {
      "text/plain": [
       "UpdateResult(operation_id=1, status=<UpdateStatus.COMPLETED: 'completed'>)"
      ]
     },
     "execution_count": 114,
     "metadata": {},
     "output_type": "execute_result"
    }
   ],
   "source": [
    "qd_client.upsert(\n",
    "    collection_name=collection_name,\n",
    "    points=points\n",
    ")"
   ]
  },
  {
   "cell_type": "code",
   "execution_count": 115,
   "id": "10a8c464-f1f5-4795-801b-19ac854f970f",
   "metadata": {},
   "outputs": [
    {
     "data": {
      "text/plain": [
       "QueryResponse(points=[ScoredPoint(id=14, version=1, score=0.87031734, payload={'text': 'Yes, you can. You won’t be able to submit some of the homeworks, but you can still take part in the course.\\nIn order to get a certificate, you need to submit 2 out of 3 course projects and review 3 peers’ Projects by the deadline. It means that if you join the course at the end of November and manage to work on two projects, you will still be eligible for a certificate.', 'section': 'General course-related questions', 'course': 'mlops-zoomcamp'}, vector=[-0.022328932, -0.050472237, -0.027709432, -0.03740207, -0.012660511, 0.011062007, 0.0028257293, -0.015284091, -0.037188776, -0.017788403, 0.017320452, -0.045489114, 0.02576105, -0.004898703, 0.03174624, -0.0060602687, -0.034617264, -0.0011483284, -0.05011883, 0.010960391, -0.0071789343, -0.007407182, -0.011910453, 0.0029656515, -0.008808807, 0.039636776, -0.016958902, -0.06290091, -0.035196856, -0.16416648, -0.044827446, -0.040522013, -0.020155983, 0.03667349, 0.022901578, -0.030570142, -0.0128144855, 0.012824049, 0.01606868, 0.04634432, 0.0077593825, 0.0056143897, -0.0023664555, -0.0376861, 0.023935402, -0.036733646, -0.043679427, -0.016893953, 0.06243984, -0.035249125, 0.03402435, -0.08252082, 0.0051587657, 0.031180805, -0.030876838, 0.03978805, -0.0060987966, 0.067375995, -0.0193447, 0.0612762, 0.040150475, 0.0049839076, -0.2008379, 0.061618567, -0.017136466, 0.04796466, -0.04981103, -0.015758315, 0.00674679, 0.063285284, -0.034095123, 0.052767698, -0.0458413, 0.055161554, 0.033487864, -0.00056855055, 0.022159418, -0.013064388, 0.024259424, 0.0025454806, -0.03787782, -0.024146466, 0.0082254475, -0.009005545, -0.028600898, 0.0025269147, 0.006089996, 0.023612395, 0.005870875, 0.017027065, 0.021391258, -0.06406385, -0.024840409, 0.015945433, -0.034356155, -0.07438039, 0.039047092, 0.031126676, -0.0061577265, 0.5758477, -0.07618826, 0.018024705, 0.017417628, -0.02340065, -0.02589126, 0.014457388, 0.014159557, -0.009576434, 0.0014024162, -0.0026181045, 0.001150378, 0.023650348, 0.008194188, -0.04831023, -0.022204863, 0.034240432, 0.009612632, 0.015613663, 0.027914863, 0.020807913, 0.023480855, 0.02820456, 0.038132403, -0.004196521, -0.007547835, -0.030035727, 0.040140916, 0.036935683, 0.07447155, 0.010443638, 0.04380361, -0.072091416, -0.063167214, -0.022099396, 0.012519141, 0.0026983507, -0.008992796, 0.01382609, 0.008360333, -0.02111625, 0.0050587137, -0.03357585, 0.06333802, 0.010020342, -0.024178006, 0.0695744, -0.018306416, 0.078786634, -0.03311967, 0.0070632948, -0.0702162, -0.0055214185, -0.013115121, -0.02830506, 0.023052355, -0.015064706, 0.06770408, 0.005026417, -0.033183064, -0.017140692, -0.04085051, -0.03771214, -0.0410314, 0.075969025, 0.05666642, -0.07598004, 0.040987037, 0.021461107, 0.006300451, -0.039470326, 0.03310783, -0.0039743963, -0.017280912, -0.004729881, 0.08500752, 0.012205548, -0.0020624455, 0.031937376, 0.0023924813, 0.03804099, -0.008481655, -0.017180286, -0.034755684, -0.020587267, 0.02099145, -0.022699298, -0.020259874, -0.04884061, 0.019551905, -0.014177162, -0.06680406, 0.050108716, -0.094055235, 0.014407001, -0.020151531, 0.0062913704, -0.0147685865, -0.05777728, -0.03122648, -0.012746404, 0.0012528723, -0.023597293, -0.0106366705, 0.046142023, -0.007019379, 0.028134488, 0.06954841, -0.00076536066, 0.03035746, 0.025541097, -0.058879577, -0.021821326, 0.038021237, -0.033795983, 0.010730577, 0.03855416, 0.03138326, 0.053224728, 0.02052436, 0.01741944, 0.0018721228, 0.005470196, 0.0028246134, -0.19677244, 0.003633445, 0.015851859, -0.00017021455, 0.07090281, -0.05498853, 0.03520044, -0.011211476, -0.04839994, 0.037975606, 0.13092819, 0.01755282, 0.00052851456, -0.041149978, 0.0039336593, -0.0068218815, -0.0041497033, -0.018038325, 0.02686394, -0.018866984, 0.006545176, 0.0035368423, 0.0064255893, -0.013848535, 0.07689657, 0.020130377, 0.14055343, -0.019919207, 0.010061494, -0.025308998, 0.046661664, 0.014173374, -0.008333889, -0.1196405, -0.021804772, -0.014351615, 0.0034938029, -0.037707448, 0.013536909, -0.042124186, 0.024478864, 0.031474367, 0.0077359024, -0.048541594, -0.03895355, -0.01860881, -0.028184606, 0.03506751, -0.002420975, 0.011607993, 0.013747984, 0.012772215, -0.009519979, 0.02920466, -0.01107407, 0.010665623, -0.07800181, -0.012193832, -0.017858708, 0.026759934, 0.0010660917, 0.011563161, -0.021978648, 0.0067791725, 0.035144635, 0.0026742856, -0.044453748, -0.0059013492, 0.022340339, -0.061294578, 0.030470962, 0.017460538, -0.012937586, -0.052025042, 0.0139881885, -0.017134016, -0.021464841, 0.028084036, 0.06182747, -0.012433638, 0.010430196, -0.075420566, -0.028534822, 0.023065, 0.03438119, 0.044262744, 0.024076048, 0.0069704778, 0.01402316, -0.005907793, 0.0016539564, 0.07045542, -0.01192246, 0.06002023, -0.005822675, -0.010503068, -0.26770642, 0.010227629, 0.010684458, 0.03535794, 0.004152903, -0.013850959, 0.06468136, 0.012017267, -0.07184893, 0.0078581665, 0.038967796, 0.04801683, -0.0018973099, -0.028028129, 0.012098227, 0.032132626, 0.07628572, -0.046735328, 0.006015242, -0.025579138, 0.013251918, 0.007366265, 0.1538394, 0.007193906, 0.05057468, -0.014564, -0.0037873334, 0.008345989, 0.02229543, -0.017973894, 0.009456624, -0.01881494, 0.036881812, -0.04509761, -0.01341754, -0.016010547, -0.035328228, 0.045990203, 0.034440786, 0.0031253044, -0.023045147, -0.025286453, -0.08673524, -0.035610437, 0.03920221, 0.002518281, 0.0009650152, -0.050620474, -0.034848053, 0.009676028, -0.002425149, -0.013612186, -0.0073341434, -0.021954836, -0.014442159, 0.044750888, 0.005857056, 0.035641048, -0.01104961, -0.04919779, -0.0038906715, -0.02638404, 0.0029403397, 0.06994569, 0.011475121], shard_key=None, order_value=None)])"
      ]
     },
     "execution_count": 115,
     "metadata": {},
     "output_type": "execute_result"
    }
   ],
   "source": [
    "search(query)"
   ]
  },
  {
   "cell_type": "code",
   "execution_count": null,
   "id": "2298a5c3-042a-4b7a-a10c-e074815c5f50",
   "metadata": {},
   "outputs": [],
   "source": []
  }
 ],
 "metadata": {
  "kernelspec": {
   "display_name": "Python 3 (ipykernel)",
   "language": "python",
   "name": "python3"
  },
  "language_info": {
   "codemirror_mode": {
    "name": "ipython",
    "version": 3
   },
   "file_extension": ".py",
   "mimetype": "text/x-python",
   "name": "python",
   "nbconvert_exporter": "python",
   "pygments_lexer": "ipython3",
   "version": "3.12.1"
  }
 },
 "nbformat": 4,
 "nbformat_minor": 5
}
